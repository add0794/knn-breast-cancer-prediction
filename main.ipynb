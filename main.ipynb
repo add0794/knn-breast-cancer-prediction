{
 "cells": [
  {
   "cell_type": "markdown",
   "metadata": {},
   "source": [
    "# K-Nearest Neighbors (KNN): Theory & Application"
   ]
  },
  {
   "cell_type": "markdown",
   "metadata": {},
   "source": [
    "## 1) The Theory: Finding the Nearest Neighbors"
   ]
  },
  {
   "cell_type": "markdown",
   "metadata": {},
   "source": [
    "The K-nearest neighbors algorithm uses the following steps to classify a given prediction:\n",
    "\n",
    "1. **Compute the Distance**:\n",
    "   Decide on a distance metric (e.g., Euclidean distance) beforehand. For each data point *i* in the training set, calculate the distance between the test point and every feature vector *j*:\n",
    "   $$d(x_{\\text{test}}, x_i) = \\sqrt{\\sum_{j=1}^n (x_{\\text{test}, j} - x_{i, j})^2} = \\| x_{\\text{test}} - x_i \\|_2$$\n",
    "   where:\n",
    "   - *$x_{\\text{test}}$* is the test point.\n",
    "   - *$x_{\\text{i}}$* is a training point.\n",
    "   - *j* is a feature.\n",
    "   - *n* is the number of features.\n",
    "\n",
    "2. **Repeat for All Points**:\n",
    "   Perform the distance calculation for all \\(i\\) points in the training dataset.\n",
    "\n",
    "3. **Calculate Conditional Probabilities**:\n",
    "   For each class label \\(y\\), calculate the conditional probability that the test point belongs to that label given the \\(k\\)-nearest neighbors:\n",
    "   $$P(y = j \\mid \\text{neighbors}) = \\frac{1}{k} \\sum_{i=1}^k \\mathbb{I}(y_i = j)$$\n",
    "   where:\n",
    "   - $\\mathbb{I}(y_i = j)$ is the indicator function, which equals 1 if $y_i = j$ (the neighbor belongs to class *j* and 0 otherwise.\n",
    "   - *k* is the number of neighbors.\n",
    "\n",
    "4. **Choose the Label with Maximum Probability**:\n",
    "   Select the label *j* that maximizes the conditional probability:\n",
    "   $$\\hat{y} = \\arg\\max_{j} P(y = j \\mid \\text{neighbors})$$\n",
    "   The test point is assigned the class label corresponding to the highest conditional probability.\n"
   ]
  },
  {
   "cell_type": "markdown",
   "metadata": {},
   "source": [
    "### Let's go through a basic classification example."
   ]
  },
  {
   "cell_type": "code",
   "execution_count": 41,
   "metadata": {},
   "outputs": [],
   "source": [
    "import numpy as np\n",
    "import pandas as pd"
   ]
  },
  {
   "cell_type": "markdown",
   "metadata": {},
   "source": [
    "**We'll gather some data and split between features and labels.**"
   ]
  },
  {
   "cell_type": "code",
   "execution_count": 42,
   "metadata": {},
   "outputs": [
    {
     "name": "stdout",
     "output_type": "stream",
     "text": [
      "   feature1  feature2  label\n",
      "0         1         2      1\n",
      "1         3         4      2\n",
      "2         5         6      1\n"
     ]
    }
   ],
   "source": [
    "features = [[1, 2], [3, 4], [5, 6]]\n",
    "labels = [1, 2, 1]\n",
    "\n",
    "# Convert features list to numpy array and create DataFrame\n",
    "features_array = np.array(features)\n",
    "df = pd.DataFrame(features_array, columns=['feature1', 'feature2'])\n",
    "\n",
    "# Add labels column\n",
    "df['label'] = labels\n",
    "print(df)"
   ]
  },
  {
   "cell_type": "markdown",
   "metadata": {},
   "source": [
    "**Specify our test point for classification.**"
   ]
  },
  {
   "cell_type": "code",
   "execution_count": 43,
   "metadata": {},
   "outputs": [],
   "source": [
    "x_test = np.array([10, 12])"
   ]
  },
  {
   "cell_type": "markdown",
   "metadata": {},
   "source": [
    "**Find the euclidean distance between that point with all other points and each of their features.**"
   ]
  },
  {
   "cell_type": "code",
   "execution_count": 44,
   "metadata": {},
   "outputs": [
    {
     "name": "stdout",
     "output_type": "stream",
     "text": [
      "   feature1  feature2  label       dist\n",
      "0         1         2      1  13.453624\n",
      "1         3         4      2  10.630146\n",
      "2         5         6      1   7.810250\n"
     ]
    }
   ],
   "source": [
    "features = df.drop('label', axis=1)\n",
    "for i in range(len(df)):\n",
    "    dist = np.linalg.norm(x_test-features.iloc[i])\n",
    "    df.loc[i, 'dist'] = dist \n",
    "    \n",
    "print(df)"
   ]
  },
  {
   "cell_type": "markdown",
   "metadata": {},
   "source": [
    "**We'll specify the \"k\" in k-nearest neighbors to decide *which* neighbors we should use for our algorithm.**"
   ]
  },
  {
   "cell_type": "code",
   "execution_count": 28,
   "metadata": {},
   "outputs": [],
   "source": [
    "k = 1\n",
    "\n",
    "# We are taking the highest 1 data point for classification"
   ]
  },
  {
   "cell_type": "markdown",
   "metadata": {},
   "source": [
    "**Finally, we alculate and choose the label with the maximum (conditional) probability as our classification.**"
   ]
  },
  {
   "cell_type": "code",
   "execution_count": 52,
   "metadata": {},
   "outputs": [
    {
     "name": "stdout",
     "output_type": "stream",
     "text": [
      "Label counts: {1: 1, 2: 0}\n",
      "Classification: 1\n"
     ]
    }
   ],
   "source": [
    "# First sort the dataframe by distance to get nearest neighbor\n",
    "df_sorted = df.sort_values('dist')\n",
    "\n",
    "# For k=1, we only look at the first row (nearest neighbor)\n",
    "nearest_label = df_sorted.iloc[0]['label']\n",
    "\n",
    "# Create indicator function\n",
    "def indicator(nearest_label):\n",
    "    label_1 = 0  # Use integers instead of lists\n",
    "    label_2 = 0\n",
    "    \n",
    "    if nearest_label == 1:\n",
    "        label_1 = 1\n",
    "    elif nearest_label == 2:\n",
    "        label_2 = 1\n",
    "        \n",
    "    return {1: label_1, 2: label_2}  # Return a dictionary mapping labels to counts\n",
    "\n",
    "# Get the counts\n",
    "label_counts = indicator(nearest_label)\n",
    "\n",
    "# Find the label with maximum count\n",
    "classification = max(label_counts, key=label_counts.get)\n",
    "\n",
    "print(f\"Label counts: {label_counts}\")\n",
    "print(f\"Classification: {classification}\")"
   ]
  },
  {
   "cell_type": "markdown",
   "metadata": {},
   "source": [
    "### Our point should be classified with the label \"1\" according to KNN."
   ]
  },
  {
   "cell_type": "markdown",
   "metadata": {},
   "source": [
    "## 2) The Application: Diagnosing Breast Cancer"
   ]
  },
  {
   "cell_type": "code",
   "execution_count": 55,
   "metadata": {},
   "outputs": [
    {
     "name": "stdout",
     "output_type": "stream",
     "text": [
      "Warning: Looks like you're using an outdated `kagglehub` version (installed: 0.3.5), please consider upgrading to the latest version (0.3.6).\n",
      "Downloading from https://www.kaggle.com/api/v1/datasets/download/rahmasleam/breast-cancer?dataset_version_number=1...\n"
     ]
    },
    {
     "name": "stderr",
     "output_type": "stream",
     "text": [
      "100%|██████████| 48.6k/48.6k [00:00<00:00, 14.7MB/s]"
     ]
    },
    {
     "name": "stdout",
     "output_type": "stream",
     "text": [
      "Extracting files...\n",
      "Path to dataset files: /Users/alexdubro/.cache/kagglehub/datasets/rahmasleam/breast-cancer/versions/1\n"
     ]
    },
    {
     "name": "stderr",
     "output_type": "stream",
     "text": [
      "\n"
     ]
    }
   ],
   "source": [
    "import kagglehub\n",
    "\n",
    "# Download latest version\n",
    "path = kagglehub.dataset_download(\"rahmasleam/breast-cancer\")\n",
    "\n",
    "print(\"Path to dataset files:\", path)"
   ]
  },
  {
   "cell_type": "code",
   "execution_count": 61,
   "metadata": {},
   "outputs": [],
   "source": [
    "import numpy as np\n",
    "import os\n",
    "import pandas as pd\n",
    "from sklearn.metrics import (\n",
    "    accuracy_score, \n",
    "    precision_score, \n",
    "    recall_score, \n",
    "    f1_score, \n",
    "    confusion_matrix, \n",
    "    classification_report\n",
    ")\n",
    "from sklearn.model_selection import cross_val_score, train_test_split\n",
    "from sklearn.neighbors import NearestNeighbors\n",
    "from sklearn.preprocessing import StandardScaler"
   ]
  },
  {
   "cell_type": "code",
   "execution_count": 60,
   "metadata": {},
   "outputs": [
    {
     "data": {
      "text/html": [
       "<div>\n",
       "<style scoped>\n",
       "    .dataframe tbody tr th:only-of-type {\n",
       "        vertical-align: middle;\n",
       "    }\n",
       "\n",
       "    .dataframe tbody tr th {\n",
       "        vertical-align: top;\n",
       "    }\n",
       "\n",
       "    .dataframe thead th {\n",
       "        text-align: right;\n",
       "    }\n",
       "</style>\n",
       "<table border=\"1\" class=\"dataframe\">\n",
       "  <thead>\n",
       "    <tr style=\"text-align: right;\">\n",
       "      <th></th>\n",
       "      <th>id</th>\n",
       "      <th>diagnosis</th>\n",
       "      <th>radius_mean</th>\n",
       "      <th>texture_mean</th>\n",
       "      <th>perimeter_mean</th>\n",
       "      <th>area_mean</th>\n",
       "      <th>smoothness_mean</th>\n",
       "      <th>compactness_mean</th>\n",
       "      <th>concavity_mean</th>\n",
       "      <th>concave points_mean</th>\n",
       "      <th>...</th>\n",
       "      <th>radius_worst</th>\n",
       "      <th>texture_worst</th>\n",
       "      <th>perimeter_worst</th>\n",
       "      <th>area_worst</th>\n",
       "      <th>smoothness_worst</th>\n",
       "      <th>compactness_worst</th>\n",
       "      <th>concavity_worst</th>\n",
       "      <th>concave points_worst</th>\n",
       "      <th>symmetry_worst</th>\n",
       "      <th>fractal_dimension_worst</th>\n",
       "    </tr>\n",
       "  </thead>\n",
       "  <tbody>\n",
       "    <tr>\n",
       "      <th>0</th>\n",
       "      <td>842302</td>\n",
       "      <td>M</td>\n",
       "      <td>17.99</td>\n",
       "      <td>10.38</td>\n",
       "      <td>122.80</td>\n",
       "      <td>1001.0</td>\n",
       "      <td>0.11840</td>\n",
       "      <td>0.27760</td>\n",
       "      <td>0.3001</td>\n",
       "      <td>0.14710</td>\n",
       "      <td>...</td>\n",
       "      <td>25.38</td>\n",
       "      <td>17.33</td>\n",
       "      <td>184.60</td>\n",
       "      <td>2019.0</td>\n",
       "      <td>0.1622</td>\n",
       "      <td>0.6656</td>\n",
       "      <td>0.7119</td>\n",
       "      <td>0.2654</td>\n",
       "      <td>0.4601</td>\n",
       "      <td>0.11890</td>\n",
       "    </tr>\n",
       "    <tr>\n",
       "      <th>1</th>\n",
       "      <td>842517</td>\n",
       "      <td>M</td>\n",
       "      <td>20.57</td>\n",
       "      <td>17.77</td>\n",
       "      <td>132.90</td>\n",
       "      <td>1326.0</td>\n",
       "      <td>0.08474</td>\n",
       "      <td>0.07864</td>\n",
       "      <td>0.0869</td>\n",
       "      <td>0.07017</td>\n",
       "      <td>...</td>\n",
       "      <td>24.99</td>\n",
       "      <td>23.41</td>\n",
       "      <td>158.80</td>\n",
       "      <td>1956.0</td>\n",
       "      <td>0.1238</td>\n",
       "      <td>0.1866</td>\n",
       "      <td>0.2416</td>\n",
       "      <td>0.1860</td>\n",
       "      <td>0.2750</td>\n",
       "      <td>0.08902</td>\n",
       "    </tr>\n",
       "    <tr>\n",
       "      <th>2</th>\n",
       "      <td>84300903</td>\n",
       "      <td>M</td>\n",
       "      <td>19.69</td>\n",
       "      <td>21.25</td>\n",
       "      <td>130.00</td>\n",
       "      <td>1203.0</td>\n",
       "      <td>0.10960</td>\n",
       "      <td>0.15990</td>\n",
       "      <td>0.1974</td>\n",
       "      <td>0.12790</td>\n",
       "      <td>...</td>\n",
       "      <td>23.57</td>\n",
       "      <td>25.53</td>\n",
       "      <td>152.50</td>\n",
       "      <td>1709.0</td>\n",
       "      <td>0.1444</td>\n",
       "      <td>0.4245</td>\n",
       "      <td>0.4504</td>\n",
       "      <td>0.2430</td>\n",
       "      <td>0.3613</td>\n",
       "      <td>0.08758</td>\n",
       "    </tr>\n",
       "    <tr>\n",
       "      <th>3</th>\n",
       "      <td>84348301</td>\n",
       "      <td>M</td>\n",
       "      <td>11.42</td>\n",
       "      <td>20.38</td>\n",
       "      <td>77.58</td>\n",
       "      <td>386.1</td>\n",
       "      <td>0.14250</td>\n",
       "      <td>0.28390</td>\n",
       "      <td>0.2414</td>\n",
       "      <td>0.10520</td>\n",
       "      <td>...</td>\n",
       "      <td>14.91</td>\n",
       "      <td>26.50</td>\n",
       "      <td>98.87</td>\n",
       "      <td>567.7</td>\n",
       "      <td>0.2098</td>\n",
       "      <td>0.8663</td>\n",
       "      <td>0.6869</td>\n",
       "      <td>0.2575</td>\n",
       "      <td>0.6638</td>\n",
       "      <td>0.17300</td>\n",
       "    </tr>\n",
       "    <tr>\n",
       "      <th>4</th>\n",
       "      <td>84358402</td>\n",
       "      <td>M</td>\n",
       "      <td>20.29</td>\n",
       "      <td>14.34</td>\n",
       "      <td>135.10</td>\n",
       "      <td>1297.0</td>\n",
       "      <td>0.10030</td>\n",
       "      <td>0.13280</td>\n",
       "      <td>0.1980</td>\n",
       "      <td>0.10430</td>\n",
       "      <td>...</td>\n",
       "      <td>22.54</td>\n",
       "      <td>16.67</td>\n",
       "      <td>152.20</td>\n",
       "      <td>1575.0</td>\n",
       "      <td>0.1374</td>\n",
       "      <td>0.2050</td>\n",
       "      <td>0.4000</td>\n",
       "      <td>0.1625</td>\n",
       "      <td>0.2364</td>\n",
       "      <td>0.07678</td>\n",
       "    </tr>\n",
       "  </tbody>\n",
       "</table>\n",
       "<p>5 rows × 32 columns</p>\n",
       "</div>"
      ],
      "text/plain": [
       "         id diagnosis  radius_mean  texture_mean  perimeter_mean  area_mean  \\\n",
       "0    842302         M        17.99         10.38          122.80     1001.0   \n",
       "1    842517         M        20.57         17.77          132.90     1326.0   \n",
       "2  84300903         M        19.69         21.25          130.00     1203.0   \n",
       "3  84348301         M        11.42         20.38           77.58      386.1   \n",
       "4  84358402         M        20.29         14.34          135.10     1297.0   \n",
       "\n",
       "   smoothness_mean  compactness_mean  concavity_mean  concave points_mean  \\\n",
       "0          0.11840           0.27760          0.3001              0.14710   \n",
       "1          0.08474           0.07864          0.0869              0.07017   \n",
       "2          0.10960           0.15990          0.1974              0.12790   \n",
       "3          0.14250           0.28390          0.2414              0.10520   \n",
       "4          0.10030           0.13280          0.1980              0.10430   \n",
       "\n",
       "   ...  radius_worst  texture_worst  perimeter_worst  area_worst  \\\n",
       "0  ...         25.38          17.33           184.60      2019.0   \n",
       "1  ...         24.99          23.41           158.80      1956.0   \n",
       "2  ...         23.57          25.53           152.50      1709.0   \n",
       "3  ...         14.91          26.50            98.87       567.7   \n",
       "4  ...         22.54          16.67           152.20      1575.0   \n",
       "\n",
       "   smoothness_worst  compactness_worst  concavity_worst  concave points_worst  \\\n",
       "0            0.1622             0.6656           0.7119                0.2654   \n",
       "1            0.1238             0.1866           0.2416                0.1860   \n",
       "2            0.1444             0.4245           0.4504                0.2430   \n",
       "3            0.2098             0.8663           0.6869                0.2575   \n",
       "4            0.1374             0.2050           0.4000                0.1625   \n",
       "\n",
       "   symmetry_worst  fractal_dimension_worst  \n",
       "0          0.4601                  0.11890  \n",
       "1          0.2750                  0.08902  \n",
       "2          0.3613                  0.08758  \n",
       "3          0.6638                  0.17300  \n",
       "4          0.2364                  0.07678  \n",
       "\n",
       "[5 rows x 32 columns]"
      ]
     },
     "execution_count": 60,
     "metadata": {},
     "output_type": "execute_result"
    }
   ],
   "source": [
    "dataset_path = os.path.join(path, 'breast-cancer.csv')\n",
    "\n",
    "raw_data = pd.read_csv(dataset_path)\n",
    "raw_data.head()"
   ]
  },
  {
   "cell_type": "markdown",
   "metadata": {},
   "source": [
    "We know that M is \"Malignant\" and B is \"Benign.\" Let's turn those into our label by assigning:\n",
    "- M = 1\n",
    "- B = 0"
   ]
  },
  {
   "cell_type": "code",
   "execution_count": 62,
   "metadata": {},
   "outputs": [
    {
     "name": "stderr",
     "output_type": "stream",
     "text": [
      "/var/folders/k3/r6qtx6ps7r9312vkvx9ynl8c0000gn/T/ipykernel_45674/925139889.py:1: FutureWarning: Downcasting behavior in `replace` is deprecated and will be removed in a future version. To retain the old behavior, explicitly call `result.infer_objects(copy=False)`. To opt-in to the future behavior, set `pd.set_option('future.no_silent_downcasting', True)`\n",
      "  raw_data['diagnosis'] = raw_data['diagnosis'].replace({'M': 1, 'B': 0})\n"
     ]
    }
   ],
   "source": [
    "raw_data['diagnosis'] = raw_data['diagnosis'].replace({'M': 1, 'B': 0})"
   ]
  },
  {
   "cell_type": "markdown",
   "metadata": {},
   "source": [
    "Let's split the dataset up into training and test. The training set can be used to predict each test point, as we saw in the theory. Since KNN is an instance-based algorithm, the test points will be evaluated on a case-by-case basis."
   ]
  },
  {
   "cell_type": "code",
   "execution_count": 67,
   "metadata": {},
   "outputs": [],
   "source": [
    "features = raw_data.drop(['diagnosis'], axis=1)\n",
    "label = raw_data['diagnosis']"
   ]
  },
  {
   "cell_type": "code",
   "execution_count": 68,
   "metadata": {},
   "outputs": [],
   "source": [
    "X_train, X_test, y_train, y_test = train_test_split(features, label, test_size=0.2, random_state=10)"
   ]
  },
  {
   "cell_type": "markdown",
   "metadata": {},
   "source": [
    "Because of the sheer difference in size between each column's values (i.e. one column's values might be in thousands; another in decimals), let's standardize the values."
   ]
  },
  {
   "cell_type": "code",
   "execution_count": 69,
   "metadata": {},
   "outputs": [],
   "source": [
    "scaler = StandardScaler()\n",
    "\n",
    "scaler.fit(X_train)\n",
    "X_train = scaler.transform(X_train)\n",
    "X_test = scaler.transform(X_test)"
   ]
  },
  {
   "cell_type": "code",
   "execution_count": null,
   "metadata": {},
   "outputs": [],
   "source": [
    "\n",
    "\n",
    "# Multiple train-test splits to get more robust evaluation\n",
    "def robust_knn_evaluation(X, y, n_splits=10):\n",
    "    # Use StratifiedKFold to ensure each fold maintains class distribution\n",
    "    skf = StratifiedKFold(n_splits=n_splits, shuffle=True, random_state=42)\n",
    "    \n",
    "    results = []\n",
    "    \n",
    "    for train_index, test_index in skf.split(X, y):\n",
    "        X_train, X_test = X[train_index], X[test_index]\n",
    "        y_train, y_test = y[train_index], y[test_index]\n",
    "        \n",
    "        # Try different k values\n",
    "        best_k = 0\n",
    "        best_score = 0\n",
    "        \n",
    "        for k in range(1, min(11, len(X_train))):\n",
    "            knn = KNeighborsClassifier(n_neighbors=k)\n",
    "            knn.fit(X_train, y_train)\n",
    "            score = knn.score(X_test, y_test)\n",
    "            \n",
    "            if score > best_score:\n",
    "                best_score = score\n",
    "                best_k = k\n",
    "        \n",
    "        # Evaluate with best k\n",
    "        knn = KNeighborsClassifier(n_neighbors=best_k)\n",
    "        knn.fit(X_train, y_train)\n",
    "        y_pred = knn.predict(X_test)\n",
    "        \n",
    "        results.append({\n",
    "            'best_k': best_k,\n",
    "            'accuracy': accuracy_score(y_test, y_pred),\n",
    "            'precision': precision_score(y_test, y_pred, average='macro'),\n",
    "            'recall': recall_score(y_test, y_pred, average='macro'),\n",
    "            'f1': f1_score(y_test, y_pred, average='macro')\n",
    "        })\n",
    "    \n",
    "    # Aggregate results\n",
    "    print(\"Evaluation Across Multiple Splits:\")\n",
    "    print(\"Best k values:\", [r['best_k'] for r in results])\n",
    "    print(\"Accuracies:\", [r['accuracy'] for r in results])\n",
    "    print(\"\\nAverage Metrics:\")\n",
    "    for metric in ['accuracy', 'precision', 'recall', 'f1']:\n",
    "        values = [r[metric] for r in results]\n",
    "        print(f\"{metric.capitalize()}: {np.mean(values):.4f} ± {np.std(values):.4f}\")\n",
    "\n",
    "# Run the evaluation\n",
    "robust_knn_evaluation(X_scaled, y)"
   ]
  },
  {
   "cell_type": "markdown",
   "metadata": {},
   "source": [
    "### 1) This tells me the 2 nearest neighbors of each point, with their indices and distances."
   ]
  },
  {
   "cell_type": "code",
   "execution_count": 1,
   "metadata": {},
   "outputs": [
    {
     "name": "stdout",
     "output_type": "stream",
     "text": [
      "Indices:\n",
      "[[0 1]\n",
      " [1 0]\n",
      " [2 1]\n",
      " [3 4]\n",
      " [4 3]\n",
      " [5 4]]\n",
      "\n",
      "Distances:\n",
      "[[0.         1.        ]\n",
      " [0.         1.        ]\n",
      " [0.         1.41421356]\n",
      " [0.         1.        ]\n",
      " [0.         1.        ]\n",
      " [0.         1.41421356]]\n"
     ]
    }
   ],
   "source": [
    "import numpy as np\n",
    "from sklearn.neighbors import NearestNeighbors\n",
    "\n",
    "# Create the input array\n",
    "X = np.array([[-1, -1], [-2, -1], [-3, -2], [1, 1], [2, 1], [3, 2]])\n",
    "\n",
    "# Create NearestNeighbors object and fit the data\n",
    "nbrs = NearestNeighbors(n_neighbors=2, algorithm='ball_tree').fit(X)\n",
    "\n",
    "# Find the nearest neighbors\n",
    "distances, indices = nbrs.kneighbors(X)\n",
    "\n",
    "# Print both indices and distances in a single statement\n",
    "print(f\"Indices:\\n{indices}\\n\\nDistances:\\n{distances}\")"
   ]
  },
  {
   "cell_type": "markdown",
   "metadata": {},
   "source": [
    "### 2) This tells me the 2 nearest neighbors of each a new point, with their indices and distances."
   ]
  },
  {
   "cell_type": "code",
   "execution_count": 4,
   "metadata": {},
   "outputs": [
    {
     "name": "stdout",
     "output_type": "stream",
     "text": [
      "New Point: [[0 0]]\n",
      "Nearest Neighbors Indices: [[3 0]]\n",
      "Distances to Nearest Neighbors: [[1.41421356 1.41421356]]\n",
      "Nearest Neighbor Points: [[ 1  1]\n",
      " [-1 -1]]\n"
     ]
    }
   ],
   "source": [
    "import numpy as np\n",
    "from sklearn.neighbors import NearestNeighbors\n",
    "\n",
    "# Training data\n",
    "X = np.array([[-1, -1], [-2, -1], [-3, -2], [1, 1], [2, 1], [3, 2]])\n",
    "\n",
    "# Create NearestNeighbors object\n",
    "nbrs = NearestNeighbors(n_neighbors=2, algorithm='ball_tree').fit(X)\n",
    "\n",
    "# New point to find neighbors for\n",
    "new_point = np.array([[0, 0]])\n",
    "\n",
    "# Find nearest neighbors for the new point\n",
    "distances, indices = nbrs.kneighbors(new_point)\n",
    "\n",
    "# Print the results\n",
    "print(f\"New Point: {new_point}\")\n",
    "print(f\"Nearest Neighbors Indices: {indices}\")\n",
    "print(f\"Distances to Nearest Neighbors: {distances}\")\n",
    "print(f\"Nearest Neighbor Points: {X[indices[0]]}\")"
   ]
  },
  {
   "cell_type": "markdown",
   "metadata": {},
   "source": [
    "##  Algorithm: Classifying the data point"
   ]
  },
  {
   "cell_type": "code",
   "execution_count": 7,
   "metadata": {},
   "outputs": [
    {
     "name": "stdout",
     "output_type": "stream",
     "text": [
      "K Values: [1, 2, 3, 4, 5, 6, 7, 8, 9, 10, 11, 12, 13, 14, 15, 16, 17, 18, 19, 20]\n",
      "Cross-Validation Scores: [np.float64(0.96), np.float64(0.9466666666666665), np.float64(0.9666666666666668), np.float64(0.9733333333333334), np.float64(0.9733333333333334), np.float64(0.9800000000000001), np.float64(0.9800000000000001), np.float64(0.9666666666666668), np.float64(0.9733333333333334), np.float64(0.9800000000000001), np.float64(0.9800000000000001), np.float64(0.9800000000000001), np.float64(0.9733333333333334), np.float64(0.9666666666666666), np.float64(0.9666666666666668), np.float64(0.9666666666666668), np.float64(0.9666666666666668), np.float64(0.9666666666666666), np.float64(0.9666666666666668), np.float64(0.96)]\n",
      "Best K: 6\n",
      "Best Cross-Validation Score: 0.9800\n",
      "Test Score with Best K: 1.0000\n"
     ]
    }
   ],
   "source": [
    "import numpy as np\n",
    "from sklearn.model_selection import cross_val_score\n",
    "from sklearn.neighbors import KNeighborsClassifier\n",
    "from sklearn.datasets import load_iris\n",
    "from sklearn.model_selection import train_test_split\n",
    "\n",
    "# Load iris dataset\n",
    "iris = load_iris()\n",
    "X, y = iris.data, iris.target\n",
    "\n",
    "# Function to perform cross-validation for different k values\n",
    "def find_best_k(X, y, max_k=20):\n",
    "    k_values = []\n",
    "    cv_scores = []\n",
    "    \n",
    "    for k in range(1, max_k + 1):\n",
    "        # Create KNN classifier\n",
    "        knn = KNeighborsClassifier(n_neighbors=k)\n",
    "        \n",
    "        # Perform cross-validation\n",
    "        scores = cross_val_score(knn, X, y, cv=5)\n",
    "        \n",
    "        # Store results\n",
    "        k_values.append(k)\n",
    "        cv_scores.append(scores.mean())\n",
    "    \n",
    "    # Find the k with the highest cross-validation score\n",
    "    best_k = k_values[np.argmax(cv_scores)]\n",
    "    best_score = max(cv_scores)\n",
    "    \n",
    "    return k_values, cv_scores, best_k, best_score\n",
    "\n",
    "# Find the best k\n",
    "k_values, cv_scores, best_k, best_score = find_best_k(X, y)\n",
    "\n",
    "# Print results\n",
    "print(\"K Values:\", k_values)\n",
    "print(\"Cross-Validation Scores:\", cv_scores)\n",
    "print(f\"Best K: {best_k}\")\n",
    "print(f\"Best Cross-Validation Score: {best_score:.4f}\")\n",
    "\n",
    "# Demonstrate final model with best k\n",
    "X_train, X_test, y_train, y_test = train_test_split(X, y, test_size=0.3, random_state=42)\n",
    "best_knn = KNeighborsClassifier(n_neighbors=best_k)\n",
    "best_knn.fit(X_train, y_train)\n",
    "print(f\"Test Score with Best K: {best_knn.score(X_test, y_test):.4f}\")"
   ]
  },
  {
   "cell_type": "code",
   "execution_count": 8,
   "metadata": {},
   "outputs": [
    {
     "data": {
      "image/png": "[encoded data removed]",
      "text/plain": [
       "<Figure size 1000x600 with 1 Axes>"
      ]
     },
     "metadata": {},
     "output_type": "display_data"
    },
    {
     "name": "stdout",
     "output_type": "stream",
     "text": [
      "Best k: 3\n",
      "\n",
      "Model Performance Metrics:\n",
      "Accuracy: 1.0000\n",
      "Precision (Macro): 1.0000\n",
      "Recall (Macro): 1.0000\n",
      "F1 Score (Macro): 1.0000\n",
      "\n",
      "Confusion Matrix:\n",
      "[[19  0  0]\n",
      " [ 0 13  0]\n",
      " [ 0  0 13]]\n",
      "\n",
      "Detailed Classification Report:\n",
      "              precision    recall  f1-score   support\n",
      "\n",
      "           0       1.00      1.00      1.00        19\n",
      "           1       1.00      1.00      1.00        13\n",
      "           2       1.00      1.00      1.00        13\n",
      "\n",
      "    accuracy                           1.00        45\n",
      "   macro avg       1.00      1.00      1.00        45\n",
      "weighted avg       1.00      1.00      1.00        45\n",
      "\n"
     ]
    }
   ],
   "source": [
    "import numpy as np\n",
    "import matplotlib.pyplot as plt\n",
    "from sklearn.model_selection import train_test_split, cross_val_score\n",
    "from sklearn.neighbors import KNeighborsClassifier\n",
    "from sklearn.datasets import load_iris\n",
    "from sklearn.metrics import (\n",
    "    accuracy_score, \n",
    "    precision_score, \n",
    "    recall_score, \n",
    "    f1_score, \n",
    "    confusion_matrix, \n",
    "    classification_report\n",
    ")\n",
    "from sklearn.preprocessing import StandardScaler\n",
    "\n",
    "# Load and preprocess data\n",
    "iris = load_iris()\n",
    "X, y = iris.data, iris.target\n",
    "\n",
    "# Scale the features\n",
    "scaler = StandardScaler()\n",
    "X_scaled = scaler.fit_transform(X)\n",
    "\n",
    "# Split data into training and test sets\n",
    "X_train, X_test, y_train, y_test = train_test_split(\n",
    "    X_scaled, y, test_size=0.3, random_state=42\n",
    ")\n",
    "\n",
    "# Evaluate different k values\n",
    "def evaluate_knn(X_train, X_test, y_train, y_test, max_k=30):\n",
    "    train_scores = []\n",
    "    test_scores = []\n",
    "    \n",
    "    for k in range(1, max_k + 1):\n",
    "        # Create and train KNN classifier\n",
    "        knn = KNeighborsClassifier(n_neighbors=k)\n",
    "        knn.fit(X_train, y_train)\n",
    "        \n",
    "        # Calculate scores\n",
    "        train_score = knn.score(X_train, y_train)\n",
    "        test_score = knn.score(X_test, y_test)\n",
    "        \n",
    "        train_scores.append(train_score)\n",
    "        test_scores.append(test_score)\n",
    "    \n",
    "    return train_scores, test_scores\n",
    "\n",
    "# Perform evaluation\n",
    "train_scores, test_scores = evaluate_knn(X_train, X_test, y_train, y_test)\n",
    "\n",
    "# Plot results\n",
    "plt.figure(figsize=(10, 6))\n",
    "plt.plot(range(1, 31), train_scores, label='Training Accuracy')\n",
    "plt.plot(range(1, 31), test_scores, label='Test Accuracy')\n",
    "plt.xlabel('Number of Neighbors (k)')\n",
    "plt.ylabel('Accuracy')\n",
    "plt.title('KNN: Training vs Test Accuracy')\n",
    "plt.legend()\n",
    "plt.tight_layout()\n",
    "plt.show()\n",
    "\n",
    "# Find best k\n",
    "best_k = test_scores.index(max(test_scores)) + 1\n",
    "print(f\"Best k: {best_k}\")\n",
    "\n",
    "# Detailed model evaluation with best k\n",
    "best_knn = KNeighborsClassifier(n_neighbors=best_k)\n",
    "best_knn.fit(X_train, y_train)\n",
    "y_pred = best_knn.predict(X_test)\n",
    "\n",
    "# Print comprehensive metrics\n",
    "print(\"\\nModel Performance Metrics:\")\n",
    "print(f\"Accuracy: {accuracy_score(y_test, y_pred):.4f}\")\n",
    "print(f\"Precision (Macro): {precision_score(y_test, y_pred, average='macro'):.4f}\")\n",
    "print(f\"Recall (Macro): {recall_score(y_test, y_pred, average='macro'):.4f}\")\n",
    "print(f\"F1 Score (Macro): {f1_score(y_test, y_pred, average='macro'):.4f}\")\n",
    "\n",
    "print(\"\\nConfusion Matrix:\")\n",
    "print(confusion_matrix(y_test, y_pred))\n",
    "\n",
    "print(\"\\nDetailed Classification Report:\")\n",
    "print(classification_report(y_test, y_pred))"
   ]
  },
  {
   "cell_type": "markdown",
   "metadata": {},
   "source": [
    "## Evaluating the Algorithm: Measuring how well the algorithm does"
   ]
  },
  {
   "cell_type": "code",
   "execution_count": null,
   "metadata": {},
   "outputs": [
    {
     "name": "stdout",
     "output_type": "stream",
     "text": [
      "Evaluation Across Multiple Splits:\n",
      "Best k values: [1, 1, 2, 1, 4, 1, 1, 1, 1, 7]\n",
      "Accuracies: [1.0, 1.0, 1.0, 0.9333333333333333, 0.9333333333333333, 0.8666666666666667, 1.0, 1.0, 1.0, 0.9333333333333333]\n",
      "\n",
      "Average Metrics:\n",
      "Accuracy: 0.9667 ± 0.0447\n",
      "Precision: 0.9738 ± 0.0339\n",
      "Recall: 0.9667 ± 0.0447\n",
      "F1: 0.9659 ± 0.0461\n"
     ]
    }
   ],
   "source": [
    "import numpy as np\n",
    "import matplotlib.pyplot as plt\n",
    "from sklearn.model_selection import train_test_split, cross_val_score, StratifiedKFold\n",
    "from sklearn.neighbors import KNeighborsClassifier\n",
    "from sklearn.datasets import load_iris\n",
    "from sklearn.metrics import (\n",
    "    accuracy_score, \n",
    "    precision_score, \n",
    "    recall_score, \n",
    "    f1_score, \n",
    "    confusion_matrix, \n",
    "    classification_report\n",
    ")\n",
    "from sklearn.preprocessing import StandardScaler\n",
    "\n",
    "# Set random seed for reproducibility\n",
    "np.random.seed(42)\n",
    "\n",
    "# Load and preprocess data\n",
    "iris = load_iris()\n",
    "X, y = iris.data, iris.target\n",
    "\n",
    "# Scale the features\n",
    "scaler = StandardScaler()\n",
    "X_scaled = scaler.fit_transform(X)\n",
    "\n",
    "# Multiple train-test splits to get more robust evaluation\n",
    "def robust_knn_evaluation(X, y, n_splits=10):\n",
    "    # Use StratifiedKFold to ensure each fold maintains class distribution\n",
    "    skf = StratifiedKFold(n_splits=n_splits, shuffle=True, random_state=42)\n",
    "    \n",
    "    results = []\n",
    "    \n",
    "    for train_index, test_index in skf.split(X, y):\n",
    "        X_train, X_test = X[train_index], X[test_index]\n",
    "        y_train, y_test = y[train_index], y[test_index]\n",
    "        \n",
    "        # Try different k values\n",
    "        best_k = 0\n",
    "        best_score = 0\n",
    "        \n",
    "        for k in range(1, min(11, len(X_train))):\n",
    "            knn = KNeighborsClassifier(n_neighbors=k)\n",
    "            knn.fit(X_train, y_train)\n",
    "            score = knn.score(X_test, y_test)\n",
    "            \n",
    "            if score > best_score:\n",
    "                best_score = score\n",
    "                best_k = k\n",
    "        \n",
    "        # Evaluate with best k\n",
    "        knn = KNeighborsClassifier(n_neighbors=best_k)\n",
    "        knn.fit(X_train, y_train)\n",
    "        y_pred = knn.predict(X_test)\n",
    "        \n",
    "        results.append({\n",
    "            'best_k': best_k,\n",
    "            'accuracy': accuracy_score(y_test, y_pred),\n",
    "            'precision': precision_score(y_test, y_pred, average='macro'),\n",
    "            'recall': recall_score(y_test, y_pred, average='macro'),\n",
    "            'f1': f1_score(y_test, y_pred, average='macro')\n",
    "        })\n",
    "    \n",
    "    # Aggregate results\n",
    "    print(\"Evaluation Across Multiple Splits:\")\n",
    "    print(\"Best k values:\", [r['best_k'] for r in results])\n",
    "    print(\"Accuracies:\", [r['accuracy'] for r in results])\n",
    "    print(\"\\nAverage Metrics:\")\n",
    "    for metric in ['accuracy', 'precision', 'recall', 'f1']:\n",
    "        values = [r[metric] for r in results]\n",
    "        print(f\"{metric.capitalize()}: {np.mean(values):.4f} ± {np.std(values):.4f}\")\n",
    "\n",
    "# Run the evaluation\n",
    "robust_knn_evaluation(X_scaled, y)"
   ]
  },
  {
   "cell_type": "markdown",
   "metadata": {},
   "source": []
  }
 ],
 "metadata": {
  "kernelspec": {
   "display_name": "miniforge",
   "language": "python",
   "name": "python3"
  },
  "language_info": {
   "codemirror_mode": {
    "name": "ipython",
    "version": 3
   },
   "file_extension": ".py",
   "mimetype": "text/x-python",
   "name": "python",
   "nbconvert_exporter": "python",
   "pygments_lexer": "ipython3",
   "version": "3.10.15"
  }
 },
 "nbformat": 4,
 "nbformat_minor": 2
}
