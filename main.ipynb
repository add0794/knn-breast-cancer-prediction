{
 "cells": [
  {
   "cell_type": "markdown",
   "metadata": {},
   "source": [
    "# Diagnosing Breast Cancer with K-Nearest Neighbors (KNN)"
   ]
  },
  {
   "cell_type": "markdown",
   "metadata": {},
   "source": [
    "## 1) Absract: Framing the Problem\n",
    "\n",
    "Breast cancer is the most prevalent cancer among women globally, accounting for 25% of all cancer cases. In 2015 alone, it impacted over 2.1 million individuals. The disease begins when cells in the breast grow uncontrollably, forming tumors that can be detected via X-ray or felt as lumps.\n",
    "\n",
    "The biggest challenge is detecting a tumor as malignant (cancerous) or benign (non-cancerous). This project uses KNN to classify tumors given data about the tumor (e.g. compactness, concavity, smoothness). "
   ]
  },
  {
   "cell_type": "markdown",
   "metadata": {},
   "source": [
    "## 2) Introduction: What is K-Nearest Neighbors (KNN)?"
   ]
  },
  {
   "cell_type": "markdown",
   "metadata": {},
   "source": [
    "K-Nearest Neighbors (KNN) predicts by looking at the closest examples in your training data. When given a new case to classify (called a test point), it calculates the distance between this test point and all training examples based on their features, finds the K closest examples (where K is a number you choose, like 3 or 5), and assigns the most common label among these neighbors.\n",
    "\n",
    "It's like asking for restaurant recommendations in a new neighborhood -- you'd probably trust the opinions of people who live closest to you since they're most similar to your situation and know the local spots best.\n",
    "\n",
    "The algorithm uses the following steps to classify a given prediction:\n",
    "\n",
    "1. **Compute the Distance**:\n",
    "   Decide on a distance metric (e.g., Euclidean distance) beforehand. For each data point *i* in the training set, calculate the distance between the test point and every feature vector *j*:\n",
    "   $$d(x_{\\text{test}}, x_i) = \\sqrt{\\sum_{j=1}^n (x_{\\text{test}, j} - x_{i, j})^2} = \\| x_{\\text{test}} - x_i \\|_2$$\n",
    "   where:\n",
    "   - *$x_{\\text{test}}$* is the test point.\n",
    "   - *$x_{\\text{i}}$* is a training point.\n",
    "   - *j* is a feature.\n",
    "   - *n* is the number of features.\n",
    "\n",
    "2. **Repeat for All Points**:\n",
    "   Perform the distance calculation for all \\(i\\) points in the training dataset. Once we've set our $k$ in k-nearest neighbors, the ones that are closest will be the ones we use.\n",
    "\n",
    "3. **Calculate Conditional Probabilities**:\n",
    "   For each class label \\(y\\), calculate the conditional probability that the test point belongs to that label given the k-nearest neighbors:\n",
    "   $$P(y = j \\mid \\text{k}) = \\sum_{i=1}^k \\mathbb{I}(y_i = j)$$\n",
    "   where:\n",
    "   - $\\mathbb{I}(y_i = j)$ is the indicator function, which equals 1 if $y_i = j$ (the neighbor belongs to label *j* and 0 otherwise.\n",
    "   - *k* is the number of neighbors.\n",
    "\n",
    "4. **Choose the Label with Maximum Probability**:\n",
    "   Select the label *j* that maximizes the conditional probability:\n",
    "   $$\\hat{y} = \\arg\\max_{j} P(y = j \\mid \\text{k})$$\n",
    "   The test point is assigned the class label corresponding to the highest conditional probability."
   ]
  },
  {
   "cell_type": "markdown",
   "metadata": {},
   "source": [
    "Let's go through an example."
   ]
  },
  {
   "cell_type": "code",
   "execution_count": 1,
   "metadata": {},
   "outputs": [],
   "source": [
    "import numpy as np\n",
    "import pandas as pd"
   ]
  },
  {
   "cell_type": "markdown",
   "metadata": {},
   "source": [
    "We'll gather some data and split between features and labels."
   ]
  },
  {
   "cell_type": "code",
   "execution_count": 2,
   "metadata": {},
   "outputs": [
    {
     "name": "stdout",
     "output_type": "stream",
     "text": [
      "   feature1  feature2  label\n",
      "0         1         2      1\n",
      "1         3         4      2\n",
      "2         5         6      1\n"
     ]
    }
   ],
   "source": [
    "features = [[1, 2], [3, 4], [5, 6]]\n",
    "labels = [1, 2, 1]\n",
    "\n",
    "# Convert features list to numpy array and create DataFrame\n",
    "features_array = np.array(features)\n",
    "df = pd.DataFrame(features_array, columns=['feature1', 'feature2'])\n",
    "\n",
    "# Add labels column\n",
    "df['label'] = labels\n",
    "print(df)"
   ]
  },
  {
   "cell_type": "markdown",
   "metadata": {},
   "source": [
    "Now, let's grab a test point to classify."
   ]
  },
  {
   "cell_type": "code",
   "execution_count": 3,
   "metadata": {},
   "outputs": [],
   "source": [
    "x_test = np.array([10, 12])"
   ]
  },
  {
   "cell_type": "markdown",
   "metadata": {},
   "source": [
    "We'll use the euclidean distance between that point with all other points and their features."
   ]
  },
  {
   "cell_type": "code",
   "execution_count": 4,
   "metadata": {},
   "outputs": [
    {
     "name": "stdout",
     "output_type": "stream",
     "text": [
      "   feature1  feature2  label       dist\n",
      "0         1         2      1  13.453624\n",
      "1         3         4      2  10.630146\n",
      "2         5         6      1   7.810250\n"
     ]
    }
   ],
   "source": [
    "features = df.drop('label', axis=1)\n",
    "for i in range(len(df)):\n",
    "    dist = np.linalg.norm(x_test-features.iloc[i])\n",
    "    df.loc[i, 'dist'] = dist \n",
    "    \n",
    "print(df)"
   ]
  },
  {
   "cell_type": "markdown",
   "metadata": {},
   "source": [
    "Most importantly, we'll specify the $k$ in k-nearest neighbors to decide *which* neighbors we should use for our algorithm.\n",
    "\n",
    "That $k$ is 1."
   ]
  },
  {
   "cell_type": "markdown",
   "metadata": {},
   "source": [
    "Finally, we calculate and choose the label by adding up how many points in our dataset are closest. Let's keep in mind that we have set $k$ to 1, so it's the label a count of 1 that is closest. \n",
    "\n",
    "Usually, a label will be close to more than 1 neighbor, and it's the label with the most neighbors.\n",
    "\n",
    "In mathematical terms, this is the label with the maximum (conditional) probability as our classification."
   ]
  },
  {
   "cell_type": "code",
   "execution_count": 6,
   "metadata": {},
   "outputs": [
    {
     "name": "stdout",
     "output_type": "stream",
     "text": [
      "Label counts: {1: 1, 2: 0}\n",
      "Classification: 1\n"
     ]
    }
   ],
   "source": [
    "# First sort the dataframe by distance to get nearest neighbor\n",
    "df_sorted = df.sort_values('dist')\n",
    "\n",
    "# For k=1, we only look at the first row (nearest neighbor)\n",
    "nearest_label = df_sorted.iloc[0]['label']\n",
    "\n",
    "# Create indicator function\n",
    "def indicator(nearest_label):\n",
    "    label_1 = 0  # Use integers instead of lists\n",
    "    label_2 = 0\n",
    "    \n",
    "    if nearest_label == 1:\n",
    "        label_1 = 1\n",
    "    elif nearest_label == 2:\n",
    "        label_2 = 1\n",
    "        \n",
    "    return {1: label_1, 2: label_2}  # Return a dictionary mapping labels to counts\n",
    "\n",
    "# Get the counts\n",
    "label_counts = indicator(nearest_label)\n",
    "\n",
    "# Find the label with maximum count\n",
    "classification = max(label_counts, key=label_counts.get)\n",
    "\n",
    "print(f\"Label counts: {label_counts}\")\n",
    "print(f\"Classification: {classification}\")"
   ]
  },
  {
   "cell_type": "markdown",
   "metadata": {},
   "source": [
    "Our point should be classified with the label \"1\" according to KNN."
   ]
  },
  {
   "cell_type": "markdown",
   "metadata": {},
   "source": [
    "## 3) Methodology: What Do We Know About the Data?"
   ]
  },
  {
   "cell_type": "markdown",
   "metadata": {},
   "source": [
    "### Gathering the Data"
   ]
  },
  {
   "cell_type": "markdown",
   "metadata": {},
   "source": [
    "Data is sourced from the Breast Cancer Wisconsin (Diagnostic) [Dataset](https://archive.ics.uci.edu/dataset/17/breast+cancer+wisconsin+diagnostic), which can be found on [Kaggle](https://www.kaggle.com/datasets/rahmasleam/breast-cancer/data).\n",
    "\n",
    "The dataset consists of 569 records."
   ]
  },
  {
   "cell_type": "code",
   "execution_count": 27,
   "metadata": {},
   "outputs": [
    {
     "name": "stdout",
     "output_type": "stream",
     "text": [
      "Path to dataset files: /Users/alexdubro/.cache/kagglehub/datasets/rahmasleam/breast-cancer/versions/1\n"
     ]
    }
   ],
   "source": [
    "import kagglehub\n",
    "\n",
    "# Download latest version\n",
    "path = kagglehub.dataset_download(\"rahmasleam/breast-cancer\") # Breast Cancer: https://www.kaggle.com/datasets/rahmasleam/breast-cancer/data\n",
    "\n",
    "print(\"Path to dataset files:\", path)"
   ]
  },
  {
   "cell_type": "markdown",
   "metadata": {},
   "source": [
    "### Importing the Necessary Packages\n",
    "\n",
    "Scikit-Learn will do all the heavy lifting that was laid out in the theory. We need to decide on which $k$, however, fits this problem."
   ]
  },
  {
   "cell_type": "code",
   "execution_count": 28,
   "metadata": {},
   "outputs": [],
   "source": [
    "import matplotlib.pyplot as plt\n",
    "import numpy as np\n",
    "import os\n",
    "import pandas as pd\n",
    "from sklearn.metrics import (\n",
    "    accuracy_score, \n",
    "    precision_score, \n",
    "    recall_score, \n",
    "    f1_score, \n",
    "    confusion_matrix, \n",
    "    classification_report\n",
    ")\n",
    "from sklearn.model_selection import cross_val_score, train_test_split\n",
    "from sklearn.neighbors import KNeighborsClassifier\n",
    "from sklearn.preprocessing import StandardScaler"
   ]
  },
  {
   "cell_type": "code",
   "execution_count": 46,
   "metadata": {},
   "outputs": [
    {
     "data": {
      "text/html": [
       "<div>\n",
       "<style scoped>\n",
       "    .dataframe tbody tr th:only-of-type {\n",
       "        vertical-align: middle;\n",
       "    }\n",
       "\n",
       "    .dataframe tbody tr th {\n",
       "        vertical-align: top;\n",
       "    }\n",
       "\n",
       "    .dataframe thead th {\n",
       "        text-align: right;\n",
       "    }\n",
       "</style>\n",
       "<table border=\"1\" class=\"dataframe\">\n",
       "  <thead>\n",
       "    <tr style=\"text-align: right;\">\n",
       "      <th></th>\n",
       "      <th>id</th>\n",
       "      <th>diagnosis</th>\n",
       "      <th>radius_mean</th>\n",
       "      <th>texture_mean</th>\n",
       "      <th>perimeter_mean</th>\n",
       "      <th>area_mean</th>\n",
       "      <th>smoothness_mean</th>\n",
       "      <th>compactness_mean</th>\n",
       "      <th>concavity_mean</th>\n",
       "      <th>concave points_mean</th>\n",
       "      <th>...</th>\n",
       "      <th>radius_worst</th>\n",
       "      <th>texture_worst</th>\n",
       "      <th>perimeter_worst</th>\n",
       "      <th>area_worst</th>\n",
       "      <th>smoothness_worst</th>\n",
       "      <th>compactness_worst</th>\n",
       "      <th>concavity_worst</th>\n",
       "      <th>concave points_worst</th>\n",
       "      <th>symmetry_worst</th>\n",
       "      <th>fractal_dimension_worst</th>\n",
       "    </tr>\n",
       "  </thead>\n",
       "  <tbody>\n",
       "    <tr>\n",
       "      <th>0</th>\n",
       "      <td>842302</td>\n",
       "      <td>M</td>\n",
       "      <td>17.99</td>\n",
       "      <td>10.38</td>\n",
       "      <td>122.80</td>\n",
       "      <td>1001.0</td>\n",
       "      <td>0.11840</td>\n",
       "      <td>0.27760</td>\n",
       "      <td>0.3001</td>\n",
       "      <td>0.14710</td>\n",
       "      <td>...</td>\n",
       "      <td>25.38</td>\n",
       "      <td>17.33</td>\n",
       "      <td>184.60</td>\n",
       "      <td>2019.0</td>\n",
       "      <td>0.1622</td>\n",
       "      <td>0.6656</td>\n",
       "      <td>0.7119</td>\n",
       "      <td>0.2654</td>\n",
       "      <td>0.4601</td>\n",
       "      <td>0.11890</td>\n",
       "    </tr>\n",
       "    <tr>\n",
       "      <th>1</th>\n",
       "      <td>842517</td>\n",
       "      <td>M</td>\n",
       "      <td>20.57</td>\n",
       "      <td>17.77</td>\n",
       "      <td>132.90</td>\n",
       "      <td>1326.0</td>\n",
       "      <td>0.08474</td>\n",
       "      <td>0.07864</td>\n",
       "      <td>0.0869</td>\n",
       "      <td>0.07017</td>\n",
       "      <td>...</td>\n",
       "      <td>24.99</td>\n",
       "      <td>23.41</td>\n",
       "      <td>158.80</td>\n",
       "      <td>1956.0</td>\n",
       "      <td>0.1238</td>\n",
       "      <td>0.1866</td>\n",
       "      <td>0.2416</td>\n",
       "      <td>0.1860</td>\n",
       "      <td>0.2750</td>\n",
       "      <td>0.08902</td>\n",
       "    </tr>\n",
       "    <tr>\n",
       "      <th>2</th>\n",
       "      <td>84300903</td>\n",
       "      <td>M</td>\n",
       "      <td>19.69</td>\n",
       "      <td>21.25</td>\n",
       "      <td>130.00</td>\n",
       "      <td>1203.0</td>\n",
       "      <td>0.10960</td>\n",
       "      <td>0.15990</td>\n",
       "      <td>0.1974</td>\n",
       "      <td>0.12790</td>\n",
       "      <td>...</td>\n",
       "      <td>23.57</td>\n",
       "      <td>25.53</td>\n",
       "      <td>152.50</td>\n",
       "      <td>1709.0</td>\n",
       "      <td>0.1444</td>\n",
       "      <td>0.4245</td>\n",
       "      <td>0.4504</td>\n",
       "      <td>0.2430</td>\n",
       "      <td>0.3613</td>\n",
       "      <td>0.08758</td>\n",
       "    </tr>\n",
       "    <tr>\n",
       "      <th>3</th>\n",
       "      <td>84348301</td>\n",
       "      <td>M</td>\n",
       "      <td>11.42</td>\n",
       "      <td>20.38</td>\n",
       "      <td>77.58</td>\n",
       "      <td>386.1</td>\n",
       "      <td>0.14250</td>\n",
       "      <td>0.28390</td>\n",
       "      <td>0.2414</td>\n",
       "      <td>0.10520</td>\n",
       "      <td>...</td>\n",
       "      <td>14.91</td>\n",
       "      <td>26.50</td>\n",
       "      <td>98.87</td>\n",
       "      <td>567.7</td>\n",
       "      <td>0.2098</td>\n",
       "      <td>0.8663</td>\n",
       "      <td>0.6869</td>\n",
       "      <td>0.2575</td>\n",
       "      <td>0.6638</td>\n",
       "      <td>0.17300</td>\n",
       "    </tr>\n",
       "    <tr>\n",
       "      <th>4</th>\n",
       "      <td>84358402</td>\n",
       "      <td>M</td>\n",
       "      <td>20.29</td>\n",
       "      <td>14.34</td>\n",
       "      <td>135.10</td>\n",
       "      <td>1297.0</td>\n",
       "      <td>0.10030</td>\n",
       "      <td>0.13280</td>\n",
       "      <td>0.1980</td>\n",
       "      <td>0.10430</td>\n",
       "      <td>...</td>\n",
       "      <td>22.54</td>\n",
       "      <td>16.67</td>\n",
       "      <td>152.20</td>\n",
       "      <td>1575.0</td>\n",
       "      <td>0.1374</td>\n",
       "      <td>0.2050</td>\n",
       "      <td>0.4000</td>\n",
       "      <td>0.1625</td>\n",
       "      <td>0.2364</td>\n",
       "      <td>0.07678</td>\n",
       "    </tr>\n",
       "  </tbody>\n",
       "</table>\n",
       "<p>5 rows × 32 columns</p>\n",
       "</div>"
      ],
      "text/plain": [
       "         id diagnosis  radius_mean  texture_mean  perimeter_mean  area_mean  \\\n",
       "0    842302         M        17.99         10.38          122.80     1001.0   \n",
       "1    842517         M        20.57         17.77          132.90     1326.0   \n",
       "2  84300903         M        19.69         21.25          130.00     1203.0   \n",
       "3  84348301         M        11.42         20.38           77.58      386.1   \n",
       "4  84358402         M        20.29         14.34          135.10     1297.0   \n",
       "\n",
       "   smoothness_mean  compactness_mean  concavity_mean  concave points_mean  \\\n",
       "0          0.11840           0.27760          0.3001              0.14710   \n",
       "1          0.08474           0.07864          0.0869              0.07017   \n",
       "2          0.10960           0.15990          0.1974              0.12790   \n",
       "3          0.14250           0.28390          0.2414              0.10520   \n",
       "4          0.10030           0.13280          0.1980              0.10430   \n",
       "\n",
       "   ...  radius_worst  texture_worst  perimeter_worst  area_worst  \\\n",
       "0  ...         25.38          17.33           184.60      2019.0   \n",
       "1  ...         24.99          23.41           158.80      1956.0   \n",
       "2  ...         23.57          25.53           152.50      1709.0   \n",
       "3  ...         14.91          26.50            98.87       567.7   \n",
       "4  ...         22.54          16.67           152.20      1575.0   \n",
       "\n",
       "   smoothness_worst  compactness_worst  concavity_worst  concave points_worst  \\\n",
       "0            0.1622             0.6656           0.7119                0.2654   \n",
       "1            0.1238             0.1866           0.2416                0.1860   \n",
       "2            0.1444             0.4245           0.4504                0.2430   \n",
       "3            0.2098             0.8663           0.6869                0.2575   \n",
       "4            0.1374             0.2050           0.4000                0.1625   \n",
       "\n",
       "   symmetry_worst  fractal_dimension_worst  \n",
       "0          0.4601                  0.11890  \n",
       "1          0.2750                  0.08902  \n",
       "2          0.3613                  0.08758  \n",
       "3          0.6638                  0.17300  \n",
       "4          0.2364                  0.07678  \n",
       "\n",
       "[5 rows x 32 columns]"
      ]
     },
     "execution_count": 46,
     "metadata": {},
     "output_type": "execute_result"
    }
   ],
   "source": [
    "dataset_path = os.path.join(path, 'breast-cancer.csv')\n",
    "\n",
    "raw_data = pd.read_csv(dataset_path)\n",
    "raw_data.head()"
   ]
  },
  {
   "cell_type": "markdown",
   "metadata": {},
   "source": [
    "### Cleaning/preprocessing the Data"
   ]
  },
  {
   "cell_type": "markdown",
   "metadata": {},
   "source": [
    "We know that M is \"Malignant\" and B is \"Benign.\" Let's turn those into our label by assigning:\n",
    "- M = 1\n",
    "- B = 0"
   ]
  },
  {
   "cell_type": "code",
   "execution_count": 30,
   "metadata": {},
   "outputs": [],
   "source": [
    "raw_data['diagnosis'] = raw_data['diagnosis'].map({'M': 1, 'B': 0})"
   ]
  },
  {
   "cell_type": "markdown",
   "metadata": {},
   "source": [
    "We have to remove null data and duplicates as well."
   ]
  },
  {
   "cell_type": "code",
   "execution_count": 31,
   "metadata": {},
   "outputs": [],
   "source": [
    "# 1) Removing null data\n",
    "\n",
    "raw_data.dropna(inplace=True)\n",
    "\n",
    "# 2) Removing duplicates\n",
    "\n",
    "raw_data.drop_duplicates(inplace=True)"
   ]
  },
  {
   "cell_type": "markdown",
   "metadata": {},
   "source": [
    "Let's split the dataset up into training and test sets. The training set can be used to predict each test point, as we discussed in the theory. Since KNN is an instance-based algorithm, the test points will be evaluated on a case-by-case basis."
   ]
  },
  {
   "cell_type": "code",
   "execution_count": 52,
   "metadata": {},
   "outputs": [],
   "source": [
    "features = raw_data.drop(['diagnosis'], axis=1)\n",
    "label = raw_data['diagnosis']"
   ]
  },
  {
   "cell_type": "code",
   "execution_count": 33,
   "metadata": {},
   "outputs": [],
   "source": [
    "X_train, X_test, y_train, y_test = train_test_split(features, label, test_size=0.2, random_state=10)"
   ]
  },
  {
   "cell_type": "markdown",
   "metadata": {},
   "source": [
    "Because of the sheer difference in size between each column's values (i.e. one column's values might be in thousands; another in decimals), let's standardize the values."
   ]
  },
  {
   "cell_type": "code",
   "execution_count": 34,
   "metadata": {},
   "outputs": [],
   "source": [
    "scaler = StandardScaler()\n",
    "\n",
    "scaler.fit(X_train)\n",
    "X_train = scaler.transform(X_train)\n",
    "X_test = scaler.transform(X_test)"
   ]
  },
  {
   "cell_type": "markdown",
   "metadata": {},
   "source": [
    "Now, to run KNN, we have to set $k$."
   ]
  },
  {
   "cell_type": "markdown",
   "metadata": {},
   "source": [
    "Let's try accuracy and the F1 score to determine what $k$ should be."
   ]
  },
  {
   "cell_type": "code",
   "execution_count": 35,
   "metadata": {},
   "outputs": [],
   "source": [
    "def accuracy_knn(X_train, X_test, y_train, y_test, max_k=50):\n",
    "    train_scores = []\n",
    "    test_scores = []\n",
    "    \n",
    "    for k in range(1, max_k + 1):\n",
    "        # Create and train KNN classifier\n",
    "        knn = KNeighborsClassifier(n_neighbors=k)\n",
    "        knn.fit(X_train, y_train)\n",
    "        \n",
    "        # Get predictions for both train and test sets\n",
    "        train_pred = knn.predict(X_train)\n",
    "        test_pred = knn.predict(X_test)\n",
    "        \n",
    "        # Calculate F1 scores\n",
    "        train_score = accuracy_score(y_train, train_pred)\n",
    "        test_score = accuracy_score(y_test, test_pred)\n",
    "        \n",
    "        train_scores.append(train_score)\n",
    "        test_scores.append(test_score)\n",
    "    \n",
    "    return train_scores, test_scores\n",
    "\n",
    "train_accuracy_scores, test_accuracy_scores = accuracy_knn(X_train, X_test, y_train, y_test)"
   ]
  },
  {
   "cell_type": "code",
   "execution_count": 37,
   "metadata": {},
   "outputs": [
    {
     "name": "stdout",
     "output_type": "stream",
     "text": [
      "k=1: Train accuracy=1.0000, Test accuracy=0.9825, Difference=0.0175\n",
      "k=2: Train accuracy=0.9648, Test accuracy=0.9737, Difference=0.0088\n",
      "k=3: Train accuracy=0.9780, Test accuracy=0.9825, Difference=0.0044\n",
      "k=4: Train accuracy=0.9736, Test accuracy=0.9825, Difference=0.0088\n",
      "k=5: Train accuracy=0.9780, Test accuracy=0.9912, Difference=0.0132\n",
      "k=6: Train accuracy=0.9648, Test accuracy=0.9825, Difference=0.0176\n",
      "k=7: Train accuracy=0.9648, Test accuracy=0.9825, Difference=0.0176\n",
      "k=8: Train accuracy=0.9604, Test accuracy=0.9825, Difference=0.0220\n",
      "k=9: Train accuracy=0.9626, Test accuracy=0.9912, Difference=0.0286\n",
      "k=10: Train accuracy=0.9604, Test accuracy=0.9737, Difference=0.0132\n",
      "k=11: Train accuracy=0.9626, Test accuracy=0.9912, Difference=0.0286\n",
      "k=12: Train accuracy=0.9604, Test accuracy=0.9825, Difference=0.0220\n",
      "k=13: Train accuracy=0.9626, Test accuracy=0.9912, Difference=0.0286\n",
      "k=14: Train accuracy=0.9538, Test accuracy=0.9825, Difference=0.0286\n",
      "k=15: Train accuracy=0.9538, Test accuracy=0.9825, Difference=0.0286\n",
      "k=16: Train accuracy=0.9538, Test accuracy=0.9825, Difference=0.0286\n",
      "k=17: Train accuracy=0.9538, Test accuracy=0.9825, Difference=0.0286\n",
      "k=18: Train accuracy=0.9538, Test accuracy=0.9825, Difference=0.0286\n",
      "k=19: Train accuracy=0.9538, Test accuracy=0.9825, Difference=0.0286\n",
      "k=20: Train accuracy=0.9516, Test accuracy=0.9825, Difference=0.0308\n",
      "k=21: Train accuracy=0.9538, Test accuracy=0.9825, Difference=0.0286\n",
      "k=22: Train accuracy=0.9495, Test accuracy=0.9825, Difference=0.0330\n",
      "k=23: Train accuracy=0.9495, Test accuracy=0.9825, Difference=0.0330\n",
      "k=24: Train accuracy=0.9451, Test accuracy=0.9825, Difference=0.0374\n",
      "k=25: Train accuracy=0.9473, Test accuracy=0.9825, Difference=0.0352\n",
      "k=26: Train accuracy=0.9473, Test accuracy=0.9825, Difference=0.0352\n",
      "k=27: Train accuracy=0.9473, Test accuracy=0.9825, Difference=0.0352\n",
      "k=28: Train accuracy=0.9451, Test accuracy=0.9825, Difference=0.0374\n",
      "k=29: Train accuracy=0.9473, Test accuracy=0.9825, Difference=0.0352\n",
      "k=30: Train accuracy=0.9451, Test accuracy=0.9825, Difference=0.0374\n",
      "k=31: Train accuracy=0.9473, Test accuracy=0.9825, Difference=0.0352\n",
      "k=32: Train accuracy=0.9451, Test accuracy=0.9825, Difference=0.0374\n",
      "k=33: Train accuracy=0.9451, Test accuracy=0.9825, Difference=0.0374\n",
      "k=34: Train accuracy=0.9451, Test accuracy=0.9825, Difference=0.0374\n",
      "k=35: Train accuracy=0.9473, Test accuracy=0.9825, Difference=0.0352\n",
      "k=36: Train accuracy=0.9451, Test accuracy=0.9825, Difference=0.0374\n",
      "k=37: Train accuracy=0.9451, Test accuracy=0.9825, Difference=0.0374\n",
      "k=38: Train accuracy=0.9451, Test accuracy=0.9825, Difference=0.0374\n",
      "k=39: Train accuracy=0.9451, Test accuracy=0.9825, Difference=0.0374\n",
      "k=40: Train accuracy=0.9451, Test accuracy=0.9825, Difference=0.0374\n",
      "k=41: Train accuracy=0.9473, Test accuracy=0.9825, Difference=0.0352\n",
      "k=42: Train accuracy=0.9451, Test accuracy=0.9825, Difference=0.0374\n",
      "k=43: Train accuracy=0.9451, Test accuracy=0.9825, Difference=0.0374\n",
      "k=44: Train accuracy=0.9451, Test accuracy=0.9737, Difference=0.0286\n",
      "k=45: Train accuracy=0.9451, Test accuracy=0.9737, Difference=0.0286\n",
      "k=46: Train accuracy=0.9451, Test accuracy=0.9737, Difference=0.0286\n",
      "k=47: Train accuracy=0.9451, Test accuracy=0.9649, Difference=0.0199\n",
      "k=48: Train accuracy=0.9451, Test accuracy=0.9649, Difference=0.0199\n",
      "k=49: Train accuracy=0.9473, Test accuracy=0.9649, Difference=0.0177\n",
      "k=50: Train accuracy=0.9451, Test accuracy=0.9649, Difference=0.0199\n",
      "\n",
      "Best k value (smallest difference): 3\n",
      "Train accuracy: 0.9780\n",
      "Test accuracy: 0.9825\n",
      "Difference: 0.0044\n"
     ]
    }
   ],
   "source": [
    "# After you get your scores from the accuracy_knn function:\n",
    "train_accuracy_scores, test_accuracy_scores = accuracy_knn(X_train, X_test, y_train, y_test)\n",
    "\n",
    "# To find best k and show both scores\n",
    "for k in range(len(test_accuracy_scores)):\n",
    "    print(f\"k={k+1}: Train accuracy={train_accuracy_scores[k]:.4f}, Test accuracy={test_accuracy_scores[k]:.4f}, \"\n",
    "          f\"Difference={abs(train_accuracy_scores[k] - test_accuracy_scores[k]):.4f}\")\n",
    "\n",
    "# Find k with smallest difference and high scores\n",
    "accuracy_differences = [abs(train - test) for train, test in zip(train_accuracy_scores, test_accuracy_scores)]\n",
    "best_k = accuracy_differences.index(min(accuracy_differences)) + 1\n",
    "\n",
    "print(f\"\\nBest k value (smallest difference): {best_k}\")\n",
    "print(f\"Train accuracy: {train_accuracy_scores[best_k-1]:.4f}\")\n",
    "print(f\"Test accuracy: {test_accuracy_scores[best_k-1]:.4f}\")\n",
    "print(f\"Difference: {accuracy_differences[best_k-1]:.4f}\")"
   ]
  },
  {
   "cell_type": "markdown",
   "metadata": {},
   "source": [
    "Using the differences between the accuracy in the training and test sets, the optimal $k$ value is 3.\n",
    "\n",
    "Let's try the F1 score."
   ]
  },
  {
   "cell_type": "code",
   "execution_count": 38,
   "metadata": {},
   "outputs": [],
   "source": [
    "def f1_knn(X_train, X_test, y_train, y_test, max_k=50):\n",
    "    train_scores = []\n",
    "    test_scores = []\n",
    "    \n",
    "    for k in range(1, max_k + 1):\n",
    "        # Create and train KNN classifier\n",
    "        knn = KNeighborsClassifier(n_neighbors=k)\n",
    "        knn.fit(X_train, y_train)\n",
    "        \n",
    "        # Get predictions for both train and test sets\n",
    "        train_pred = knn.predict(X_train)\n",
    "        test_pred = knn.predict(X_test)\n",
    "        \n",
    "        # Calculate F1 scores\n",
    "        train_score = f1_score(y_train, train_pred, average='macro')\n",
    "        test_score = f1_score(y_test, test_pred, average='macro')\n",
    "        \n",
    "        train_scores.append(train_score)\n",
    "        test_scores.append(test_score)\n",
    "    \n",
    "    return train_scores, test_scores\n",
    "\n",
    "train_f1_scores, test_f1_scores = f1_knn(X_train, X_test, y_train, y_test)"
   ]
  },
  {
   "cell_type": "code",
   "execution_count": 39,
   "metadata": {},
   "outputs": [
    {
     "name": "stdout",
     "output_type": "stream",
     "text": [
      "k=1: Train F1=1.0000, Test F1=0.9805, Difference=0.0195\n",
      "k=2: Train F1=0.9620, Test F1=0.9702, Difference=0.0082\n",
      "k=3: Train F1=0.9764, Test F1=0.9803, Difference=0.0039\n",
      "k=4: Train F1=0.9716, Test F1=0.9803, Difference=0.0086\n",
      "k=5: Train F1=0.9765, Test F1=0.9902, Difference=0.0137\n",
      "k=6: Train F1=0.9621, Test F1=0.9803, Difference=0.0182\n",
      "k=7: Train F1=0.9622, Test F1=0.9803, Difference=0.0181\n",
      "k=8: Train F1=0.9572, Test F1=0.9803, Difference=0.0231\n",
      "k=9: Train F1=0.9596, Test F1=0.9902, Difference=0.0306\n",
      "k=10: Train F1=0.9572, Test F1=0.9702, Difference=0.0130\n",
      "k=11: Train F1=0.9597, Test F1=0.9902, Difference=0.0305\n",
      "k=12: Train F1=0.9573, Test F1=0.9803, Difference=0.0229\n",
      "k=13: Train F1=0.9597, Test F1=0.9902, Difference=0.0305\n",
      "k=14: Train F1=0.9500, Test F1=0.9803, Difference=0.0303\n",
      "k=15: Train F1=0.9500, Test F1=0.9803, Difference=0.0303\n",
      "k=16: Train F1=0.9499, Test F1=0.9803, Difference=0.0304\n",
      "k=17: Train F1=0.9499, Test F1=0.9803, Difference=0.0304\n",
      "k=18: Train F1=0.9499, Test F1=0.9803, Difference=0.0304\n",
      "k=19: Train F1=0.9499, Test F1=0.9803, Difference=0.0304\n",
      "k=20: Train F1=0.9474, Test F1=0.9803, Difference=0.0328\n",
      "k=21: Train F1=0.9499, Test F1=0.9803, Difference=0.0304\n",
      "k=22: Train F1=0.9450, Test F1=0.9803, Difference=0.0353\n",
      "k=23: Train F1=0.9450, Test F1=0.9803, Difference=0.0353\n",
      "k=24: Train F1=0.9400, Test F1=0.9803, Difference=0.0403\n",
      "k=25: Train F1=0.9425, Test F1=0.9803, Difference=0.0378\n",
      "k=26: Train F1=0.9425, Test F1=0.9803, Difference=0.0378\n",
      "k=27: Train F1=0.9425, Test F1=0.9803, Difference=0.0378\n",
      "k=28: Train F1=0.9400, Test F1=0.9803, Difference=0.0403\n",
      "k=29: Train F1=0.9425, Test F1=0.9803, Difference=0.0378\n",
      "k=30: Train F1=0.9400, Test F1=0.9803, Difference=0.0403\n",
      "k=31: Train F1=0.9425, Test F1=0.9803, Difference=0.0378\n",
      "k=32: Train F1=0.9400, Test F1=0.9803, Difference=0.0403\n",
      "k=33: Train F1=0.9400, Test F1=0.9803, Difference=0.0403\n",
      "k=34: Train F1=0.9400, Test F1=0.9803, Difference=0.0403\n",
      "k=35: Train F1=0.9425, Test F1=0.9803, Difference=0.0378\n",
      "k=36: Train F1=0.9400, Test F1=0.9803, Difference=0.0403\n",
      "k=37: Train F1=0.9400, Test F1=0.9803, Difference=0.0403\n",
      "k=38: Train F1=0.9400, Test F1=0.9803, Difference=0.0403\n",
      "k=39: Train F1=0.9400, Test F1=0.9803, Difference=0.0403\n",
      "k=40: Train F1=0.9400, Test F1=0.9803, Difference=0.0403\n",
      "k=41: Train F1=0.9425, Test F1=0.9803, Difference=0.0378\n",
      "k=42: Train F1=0.9398, Test F1=0.9803, Difference=0.0404\n",
      "k=43: Train F1=0.9398, Test F1=0.9803, Difference=0.0404\n",
      "k=44: Train F1=0.9398, Test F1=0.9702, Difference=0.0304\n",
      "k=45: Train F1=0.9398, Test F1=0.9702, Difference=0.0304\n",
      "k=46: Train F1=0.9398, Test F1=0.9702, Difference=0.0304\n",
      "k=47: Train F1=0.9398, Test F1=0.9605, Difference=0.0207\n",
      "k=48: Train F1=0.9398, Test F1=0.9605, Difference=0.0207\n",
      "k=49: Train F1=0.9423, Test F1=0.9605, Difference=0.0182\n",
      "k=50: Train F1=0.9398, Test F1=0.9605, Difference=0.0207\n",
      "\n",
      "Best k value (smallest difference): 3\n",
      "Train F1 score: 0.9764\n",
      "Test F1 score: 0.9803\n",
      "Difference: 0.0039\n"
     ]
    }
   ],
   "source": [
    "# After you get your scores from the f1_knn function:\n",
    "train_f1_scores, test_f1_scores = f1_knn(X_train, X_test, y_train, y_test)\n",
    "\n",
    "# To find best k and show both scores\n",
    "for k in range(len(test_f1_scores)):\n",
    "    print(f\"k={k+1}: Train F1={train_f1_scores[k]:.4f}, Test F1={test_f1_scores[k]:.4f}, \"\n",
    "          f\"Difference={abs(train_f1_scores[k] - test_f1_scores[k]):.4f}\")\n",
    "\n",
    "# Find k with smallest difference and high scores\n",
    "f1_differences = [abs(train - test) for train, test in zip(train_f1_scores, test_f1_scores)]\n",
    "best_k = f1_differences.index(min(f1_differences)) + 1\n",
    "\n",
    "print(f\"\\nBest k value (smallest difference): {best_k}\")\n",
    "print(f\"Train F1 score: {train_f1_scores[best_k-1]:.4f}\")\n",
    "print(f\"Test F1 score: {test_f1_scores[best_k-1]:.4f}\")\n",
    "print(f\"Difference: {f1_differences[best_k-1]:.4f}\")"
   ]
  },
  {
   "cell_type": "markdown",
   "metadata": {},
   "source": [
    "Accuracy and the F1 score point to optimal $k$ is 3.\n",
    "\n",
    "We can visualize what this looks like."
   ]
  },
  {
   "cell_type": "code",
   "execution_count": 40,
   "metadata": {},
   "outputs": [
    {
     "data": {
      "image/png": "[encoded data removed]",
      "text/plain": [
       "<Figure size 1000x500 with 1 Axes>"
      ]
     },
     "metadata": {},
     "output_type": "display_data"
    }
   ],
   "source": [
    "# Plot the differences\n",
    "plt.figure(figsize=(10, 5))\n",
    "k_values = range(1, len(accuracy_differences) + 1)\n",
    "plt.plot(k_values, accuracy_differences, label='Accuracy Difference', marker='o')\n",
    "plt.plot(k_values, f1_differences, label='F1 Score Difference', marker='x')\n",
    "plt.xlabel('Number of Neighbors (k)')\n",
    "plt.ylabel('Difference between Train and Test')\n",
    "plt.title('Train-Test Differences vs. k')\n",
    "plt.legend()\n",
    "plt.show()"
   ]
  },
  {
   "cell_type": "markdown",
   "metadata": {},
   "source": [
    "It's always helpful to try proven techniques, so let's see why cross validation says.\n",
    "\n",
    "Cross-validation shuffles the data into multiple random subsets for training and testing to evaluate a model's accuracy more reliably. To find the optimal $k$ value, cross-validation tests different $k$ values across these data splits and averages their accuracy scores. That will help identify which $k$ produces the most accurate predictions. It's like trying out different-sized focus groups across various neighborhoods to determine the ideal group size that gives the most reliable restaurant recommendations. \n",
    "\n",
    "In comparison to taking the differences in accuracy and F1 scores of the training and test sets, cross-validation gives us confidence in our model's ability to generalize to new, unseen data by testing it across different data combinations."
   ]
  },
  {
   "cell_type": "code",
   "execution_count": 41,
   "metadata": {},
   "outputs": [
    {
     "data": {
      "image/png": "[encoded data removed]",
      "text/plain": [
       "<Figure size 640x480 with 1 Axes>"
      ]
     },
     "metadata": {},
     "output_type": "display_data"
    },
    {
     "name": "stdout",
     "output_type": "stream",
     "text": [
      "Optimal k: 3\n"
     ]
    }
   ],
   "source": [
    "# Range of k values to test\n",
    "k_values = range(1, 50)\n",
    "cv_scores = []\n",
    "\n",
    "# Evaluate cross-validation accuracy for each k\n",
    "for k in k_values:\n",
    "    knn = KNeighborsClassifier(n_neighbors=k)\n",
    "    scores = cross_val_score(knn, X_train, y_train, cv=10, scoring='accuracy')\n",
    "    cv_scores.append(scores.mean())\n",
    "\n",
    "# Plot results\n",
    "plt.plot(k_values, cv_scores, marker='o')\n",
    "plt.xlabel('Number of Neighbors (k)')\n",
    "plt.ylabel('Cross-Validation Accuracy')\n",
    "plt.title('Choosing k based on Cross-Validation')\n",
    "plt.show()\n",
    "\n",
    "# Best k\n",
    "best_k = k_values[cv_scores.index(max(cv_scores))]\n",
    "print(f\"Optimal k: {best_k}\")"
   ]
  },
  {
   "cell_type": "markdown",
   "metadata": {},
   "source": [
    "Our best $k$ is 3!"
   ]
  },
  {
   "cell_type": "markdown",
   "metadata": {},
   "source": [
    "## 4) Findings/Results: Analysis Using KNN "
   ]
  },
  {
   "cell_type": "markdown",
   "metadata": {},
   "source": [
    "Let's make classifications on our test set, otherwise known as the holdout data set. This should simulate what classifications should *really* be should we have new data.\n",
    "\n",
    "Please note that the test set isn’t actually “new” data.\n",
    "\n",
    "Its performance gives us confidence in how the model might behave when faced with genuinely new data in a real-world deployment."
   ]
  },
  {
   "cell_type": "code",
   "execution_count": 47,
   "metadata": {},
   "outputs": [
    {
     "data": {
      "text/plain": [
       "0    1\n",
       "1    0\n",
       "2    0\n",
       "3    1\n",
       "4    0\n",
       "dtype: int64"
      ]
     },
     "execution_count": 47,
     "metadata": {},
     "output_type": "execute_result"
    }
   ],
   "source": [
    "knn = KNeighborsClassifier(n_neighbors=3)\n",
    "knn.fit(X_train, y_train)\n",
    "y_pred = knn.predict(X_test)\n",
    "y_pred_series = pd.Series(y_pred)\n",
    "y_pred_series.head()"
   ]
  },
  {
   "cell_type": "markdown",
   "metadata": {},
   "source": [
    "Nonetheless, we'd still like to know what the new labels would be if we were given *new* data.\n",
    "\n",
    "Let's simulate."
   ]
  },
  {
   "cell_type": "code",
   "execution_count": 61,
   "metadata": {},
   "outputs": [
    {
     "data": {
      "text/html": [
       "<div>\n",
       "<style scoped>\n",
       "    .dataframe tbody tr th:only-of-type {\n",
       "        vertical-align: middle;\n",
       "    }\n",
       "\n",
       "    .dataframe tbody tr th {\n",
       "        vertical-align: top;\n",
       "    }\n",
       "\n",
       "    .dataframe thead th {\n",
       "        text-align: right;\n",
       "    }\n",
       "</style>\n",
       "<table border=\"1\" class=\"dataframe\">\n",
       "  <thead>\n",
       "    <tr style=\"text-align: right;\">\n",
       "      <th></th>\n",
       "      <th>id</th>\n",
       "      <th>radius_mean</th>\n",
       "      <th>texture_mean</th>\n",
       "      <th>perimeter_mean</th>\n",
       "      <th>area_mean</th>\n",
       "      <th>smoothness_mean</th>\n",
       "      <th>compactness_mean</th>\n",
       "      <th>concavity_mean</th>\n",
       "      <th>concave points_mean</th>\n",
       "      <th>symmetry_mean</th>\n",
       "      <th>...</th>\n",
       "      <th>radius_worst</th>\n",
       "      <th>texture_worst</th>\n",
       "      <th>perimeter_worst</th>\n",
       "      <th>area_worst</th>\n",
       "      <th>smoothness_worst</th>\n",
       "      <th>compactness_worst</th>\n",
       "      <th>concavity_worst</th>\n",
       "      <th>concave points_worst</th>\n",
       "      <th>symmetry_worst</th>\n",
       "      <th>fractal_dimension_worst</th>\n",
       "    </tr>\n",
       "  </thead>\n",
       "  <tbody>\n",
       "    <tr>\n",
       "      <th>0</th>\n",
       "      <td>0.575353</td>\n",
       "      <td>0.536187</td>\n",
       "      <td>0.271331</td>\n",
       "      <td>0.469882</td>\n",
       "      <td>0.249675</td>\n",
       "      <td>0.599724</td>\n",
       "      <td>0.122797</td>\n",
       "      <td>0.829992</td>\n",
       "      <td>0.109233</td>\n",
       "      <td>0.914995</td>\n",
       "      <td>...</td>\n",
       "      <td>0.086593</td>\n",
       "      <td>0.366134</td>\n",
       "      <td>0.448782</td>\n",
       "      <td>0.773564</td>\n",
       "      <td>0.443343</td>\n",
       "      <td>0.735208</td>\n",
       "      <td>0.698613</td>\n",
       "      <td>0.872487</td>\n",
       "      <td>0.577934</td>\n",
       "      <td>0.064917</td>\n",
       "    </tr>\n",
       "    <tr>\n",
       "      <th>1</th>\n",
       "      <td>0.192417</td>\n",
       "      <td>0.328014</td>\n",
       "      <td>0.872232</td>\n",
       "      <td>0.648179</td>\n",
       "      <td>0.857040</td>\n",
       "      <td>0.048810</td>\n",
       "      <td>0.186258</td>\n",
       "      <td>0.781657</td>\n",
       "      <td>0.101396</td>\n",
       "      <td>0.381972</td>\n",
       "      <td>...</td>\n",
       "      <td>0.427148</td>\n",
       "      <td>0.330842</td>\n",
       "      <td>0.842317</td>\n",
       "      <td>0.447752</td>\n",
       "      <td>0.430243</td>\n",
       "      <td>0.663974</td>\n",
       "      <td>0.168884</td>\n",
       "      <td>0.765383</td>\n",
       "      <td>0.889259</td>\n",
       "      <td>0.756026</td>\n",
       "    </tr>\n",
       "    <tr>\n",
       "      <th>2</th>\n",
       "      <td>0.906815</td>\n",
       "      <td>0.723452</td>\n",
       "      <td>0.235624</td>\n",
       "      <td>0.375311</td>\n",
       "      <td>0.441264</td>\n",
       "      <td>0.445134</td>\n",
       "      <td>0.038390</td>\n",
       "      <td>0.402767</td>\n",
       "      <td>0.959790</td>\n",
       "      <td>0.628883</td>\n",
       "      <td>...</td>\n",
       "      <td>0.941627</td>\n",
       "      <td>0.579522</td>\n",
       "      <td>0.025644</td>\n",
       "      <td>0.639986</td>\n",
       "      <td>0.837572</td>\n",
       "      <td>0.312878</td>\n",
       "      <td>0.323705</td>\n",
       "      <td>0.578636</td>\n",
       "      <td>0.898149</td>\n",
       "      <td>0.190235</td>\n",
       "    </tr>\n",
       "    <tr>\n",
       "      <th>3</th>\n",
       "      <td>0.413324</td>\n",
       "      <td>0.577920</td>\n",
       "      <td>0.132695</td>\n",
       "      <td>0.456529</td>\n",
       "      <td>0.278539</td>\n",
       "      <td>0.005601</td>\n",
       "      <td>0.500064</td>\n",
       "      <td>0.393112</td>\n",
       "      <td>0.356573</td>\n",
       "      <td>0.865605</td>\n",
       "      <td>...</td>\n",
       "      <td>0.150800</td>\n",
       "      <td>0.860287</td>\n",
       "      <td>0.050946</td>\n",
       "      <td>0.204764</td>\n",
       "      <td>0.204242</td>\n",
       "      <td>0.899630</td>\n",
       "      <td>0.700769</td>\n",
       "      <td>0.741519</td>\n",
       "      <td>0.764790</td>\n",
       "      <td>0.388047</td>\n",
       "    </tr>\n",
       "    <tr>\n",
       "      <th>4</th>\n",
       "      <td>0.682687</td>\n",
       "      <td>0.326054</td>\n",
       "      <td>0.512588</td>\n",
       "      <td>0.945268</td>\n",
       "      <td>0.789661</td>\n",
       "      <td>0.976219</td>\n",
       "      <td>0.474453</td>\n",
       "      <td>0.646476</td>\n",
       "      <td>0.413561</td>\n",
       "      <td>0.621994</td>\n",
       "      <td>...</td>\n",
       "      <td>0.708981</td>\n",
       "      <td>0.914291</td>\n",
       "      <td>0.984962</td>\n",
       "      <td>0.825430</td>\n",
       "      <td>0.953865</td>\n",
       "      <td>0.658331</td>\n",
       "      <td>0.254812</td>\n",
       "      <td>0.973067</td>\n",
       "      <td>0.550246</td>\n",
       "      <td>0.936612</td>\n",
       "    </tr>\n",
       "  </tbody>\n",
       "</table>\n",
       "<p>5 rows × 31 columns</p>\n",
       "</div>"
      ],
      "text/plain": [
       "         id  radius_mean  texture_mean  perimeter_mean  area_mean  \\\n",
       "0  0.575353     0.536187      0.271331        0.469882   0.249675   \n",
       "1  0.192417     0.328014      0.872232        0.648179   0.857040   \n",
       "2  0.906815     0.723452      0.235624        0.375311   0.441264   \n",
       "3  0.413324     0.577920      0.132695        0.456529   0.278539   \n",
       "4  0.682687     0.326054      0.512588        0.945268   0.789661   \n",
       "\n",
       "   smoothness_mean  compactness_mean  concavity_mean  concave points_mean  \\\n",
       "0         0.599724          0.122797        0.829992             0.109233   \n",
       "1         0.048810          0.186258        0.781657             0.101396   \n",
       "2         0.445134          0.038390        0.402767             0.959790   \n",
       "3         0.005601          0.500064        0.393112             0.356573   \n",
       "4         0.976219          0.474453        0.646476             0.413561   \n",
       "\n",
       "   symmetry_mean  ...  radius_worst  texture_worst  perimeter_worst  \\\n",
       "0       0.914995  ...      0.086593       0.366134         0.448782   \n",
       "1       0.381972  ...      0.427148       0.330842         0.842317   \n",
       "2       0.628883  ...      0.941627       0.579522         0.025644   \n",
       "3       0.865605  ...      0.150800       0.860287         0.050946   \n",
       "4       0.621994  ...      0.708981       0.914291         0.984962   \n",
       "\n",
       "   area_worst  smoothness_worst  compactness_worst  concavity_worst  \\\n",
       "0    0.773564          0.443343           0.735208         0.698613   \n",
       "1    0.447752          0.430243           0.663974         0.168884   \n",
       "2    0.639986          0.837572           0.312878         0.323705   \n",
       "3    0.204764          0.204242           0.899630         0.700769   \n",
       "4    0.825430          0.953865           0.658331         0.254812   \n",
       "\n",
       "   concave points_worst  symmetry_worst  fractal_dimension_worst  \n",
       "0              0.872487        0.577934                 0.064917  \n",
       "1              0.765383        0.889259                 0.756026  \n",
       "2              0.578636        0.898149                 0.190235  \n",
       "3              0.741519        0.764790                 0.388047  \n",
       "4              0.973067        0.550246                 0.936612  \n",
       "\n",
       "[5 rows x 31 columns]"
      ]
     },
     "execution_count": 61,
     "metadata": {},
     "output_type": "execute_result"
    }
   ],
   "source": [
    "x = np.random.rand(310)\n",
    "array = np.array_split(x, 10)\n",
    "features_sim = pd.DataFrame(array, columns=features.columns)\n",
    "features_sim.head()\n",
    "\n",
    "# columns = ['id', 'radius_mean', 'texture_mean', 'perimeter_mean', 'area_mean',\n",
    "#        'smoothness_mean', 'compactness_mean', 'concavity_mean',\n",
    "#        'concave points_mean', 'symmetry_mean', 'fractal_dimension_mean',\n",
    "#        'radius_se', 'texture_se', 'perimeter_se', 'area_se', 'smoothness_se',\n",
    "#        'compactness_se', 'concavity_se', 'concave points_se', 'symmetry_se',\n",
    "#        'fractal_dimension_se', 'radius_worst', 'texture_worst',\n",
    "#        'perimeter_worst', 'area_worst', 'smoothness_worst',\n",
    "#        'compactness_worst', 'concavity_worst', 'concave points_worst',\n",
    "#        'symmetry_worst', 'fractal_dimension_worst']"
   ]
  },
  {
   "cell_type": "code",
   "execution_count": 59,
   "metadata": {},
   "outputs": [
    {
     "data": {
      "text/plain": [
       "0    1\n",
       "1    0\n",
       "2    0\n",
       "3    1\n",
       "4    0\n",
       "dtype: int64"
      ]
     },
     "execution_count": 59,
     "metadata": {},
     "output_type": "execute_result"
    }
   ],
   "source": [
    "y_pred_sim = knn.predict(X_test)\n",
    "y_pred_series_sim = pd.Series(y_pred_sim)\n",
    "y_pred_series_sim.head()"
   ]
  },
  {
   "cell_type": "markdown",
   "metadata": {},
   "source": [
    "For our simulated data, we've classified whether a tumor would be malignant (1) or benign (0)."
   ]
  },
  {
   "cell_type": "markdown",
   "metadata": {},
   "source": [
    "### Evaluating Metrics for KNN\n",
    "\n",
    "We have already determined the **accuracy** and **F1 score**, which helped us determine that the number of neighbors, $k$, should be 3. Now, let’s explore how well our model has done based on other metrics:\n",
    "\n",
    "#### Metrics Definitions\n",
    "1. **Accuracy Score**:\n",
    "   Measures the number of correct predictions divided by the total predictions made.\n",
    "   \n",
    "   $$\\text{Accuracy} = \\frac{\\text{Number of Correct Predictions}}{\\text{Total Number of Predictions}}$$\n",
    "2. **Precision Score**:  \n",
    "   Measures the proportion of correctly predicted positive observations to the total predicted positives. It indicates how precise the model's positive predictions are.  \n",
    "   \n",
    "   $$\\text{Precision} = \\frac{\\text{True Positives (TP)}}{\\text{True Positives (TP)} + \\text{False Positives (FP)}}$$\n",
    "\n",
    "3. **Recall Score**:  \n",
    "   Measures the proportion of correctly predicted positive observations to all actual positives. It evaluates the model's ability to capture all relevant cases.  \n",
    "   \n",
    "   $$\\text{Recall} = \\frac{\\text{True Positives (TP)}}{\\text{True Positives (TP)} + \\text{False Negatives (FN)}}$$\n",
    "\n",
    "4. **F1 Score**:  \n",
    "   The harmonic mean of precision and recall. It balances the trade-off between precision and recall, especially when the dataset is imbalanced.  \n",
    "\n",
    "   $$\\text{F1 Score} = 2 \\cdot \\frac{\\text{Precision} \\cdot \\text{Recall}}{\\text{Precision} + \\text{Recall}}$$"
   ]
  },
  {
   "cell_type": "code",
   "execution_count": 21,
   "metadata": {},
   "outputs": [
    {
     "name": "stdout",
     "output_type": "stream",
     "text": [
      "\n",
      "Model Performance Metrics:\n",
      "Accuracy: 0.9825\n",
      "Precision (Macro): 0.9870\n",
      "Recall (Macro): 0.9744\n",
      "F1 Score (Macro): 0.9803\n"
     ]
    }
   ],
   "source": [
    "accuracy = accuracy_score(y_test, y_pred)\n",
    "precision = precision_score(y_test, y_pred, average='macro')\n",
    "recall = recall_score(y_test, y_pred, average='macro')\n",
    "f1 = f1_score(y_test, y_pred, average='macro')\n",
    "\n",
    "# Print results with explanations\n",
    "print(\"\\nModel Performance Metrics:\")\n",
    "print(f\"Accuracy: {accuracy:.4f}\")\n",
    "print(f\"Precision (Macro): {precision:.4f}\")\n",
    "print(f\"Recall (Macro): {recall:.4f}\")\n",
    "print(f\"F1 Score (Macro): {f1:.4f}\")"
   ]
  },
  {
   "cell_type": "markdown",
   "metadata": {},
   "source": [
    "Our model seems to be doing very well! Its predictions are almost always correct (accuracy), it's pretty correct when identifying True Positives (precision). The same can be said of recall, too, except for False Negatives."
   ]
  },
  {
   "cell_type": "markdown",
   "metadata": {},
   "source": [
    "#### Confusion Matrix Overview\n",
    "We'll include a **confusion matrix** to visualize the classification results.\n",
    "\n",
    "**Confusion Matrix**:  \n",
    "   A matrix summarizing the performance of a classification model. It consists of the following components:  \n",
    "   - **True Positives (TP)**: Correctly predicted positive cases.  \n",
    "   - **True Negatives (TN)**: Correctly predicted negative cases.  \n",
    "   - **False Positives (FP)**: Incorrectly predicted positive cases.  \n",
    "   - **False Negatives (FN)**: Incorrectly predicted negative cases.  \n",
    "\n",
    "|                     | Predicted Positive | Predicted Negative |\n",
    "|---------------------|-------------------|-------------------|\n",
    "| **Actual Positive** | True Positives (TP) | False Negatives (FN) |\n",
    "| **Actual Negative** | False Positives (FP) | True Negatives (TN) |"
   ]
  },
  {
   "cell_type": "code",
   "execution_count": 22,
   "metadata": {},
   "outputs": [
    {
     "name": "stdout",
     "output_type": "stream",
     "text": [
      "Labels: Actual Positive, Actual Negative\n",
      "[[75  0]\n",
      " [ 2 37]]\n"
     ]
    }
   ],
   "source": [
    "conf_matrix = confusion_matrix(y_test, y_pred)\n",
    "print(\"Labels: Actual Positive, Actual Negative\")\n",
    "print(conf_matrix)"
   ]
  },
  {
   "cell_type": "markdown",
   "metadata": {},
   "source": [
    "Very rarely, out of 114 predictions, does it give False Positives: only twice."
   ]
  },
  {
   "cell_type": "code",
   "execution_count": 23,
   "metadata": {},
   "outputs": [
    {
     "data": {
      "image/png": "[encoded data removed]",
      "text/plain": [
       "<Figure size 640x480 with 2 Axes>"
      ]
     },
     "metadata": {},
     "output_type": "display_data"
    }
   ],
   "source": [
    "import seaborn as sns\n",
    "import matplotlib.pyplot as plt\n",
    "\n",
    "sns.heatmap(conf_matrix, annot=True, fmt='d', cmap='Blues')\n",
    "plt.title(\"Confusion Matrix\")\n",
    "plt.xlabel(\"Predicted\")\n",
    "plt.ylabel(\"Actual\")\n",
    "plt.show()\n"
   ]
  },
  {
   "cell_type": "markdown",
   "metadata": {},
   "source": [
    "#### Classification Report\n",
    "Finally, we’ll consolidate all the metrics—accuracy, precision, recall, and F1 score—into a **classification report**, which provides a comprehensive summary in a readable format."
   ]
  },
  {
   "cell_type": "code",
   "execution_count": 24,
   "metadata": {},
   "outputs": [
    {
     "name": "stdout",
     "output_type": "stream",
     "text": [
      "\n",
      "Detailed Classification Report:\n",
      "              precision    recall  f1-score   support\n",
      "\n",
      "           0       0.97      1.00      0.99        75\n",
      "           1       1.00      0.95      0.97        39\n",
      "\n",
      "    accuracy                           0.98       114\n",
      "   macro avg       0.99      0.97      0.98       114\n",
      "weighted avg       0.98      0.98      0.98       114\n",
      "\n"
     ]
    }
   ],
   "source": [
    "class_report = classification_report(y_test, y_pred)\n",
    "print(\"\\nDetailed Classification Report:\")\n",
    "print(class_report)"
   ]
  },
  {
   "cell_type": "markdown",
   "metadata": {},
   "source": [
    "## 5) Conclusion: KNN Can Predict Breast Cancer"
   ]
  },
  {
   "cell_type": "markdown",
   "metadata": {},
   "source": [
    "As you might see in the Kaggle code, support vector machine (SVM), logistic regression, XGBoost, and other supervised learning algorithms have successfully predicted and classified breast cancer diagnoses. Most have similar accuracy rates as this paper shows.\n",
    "\n",
    "But importantly, this paper shows that a much simpler approach to predicting and classifying breast cancer can be done with K-nearest neighbors (KNN), with high accuracy, precision, and recall."
   ]
  }
 ],
 "metadata": {
  "kernelspec": {
   "display_name": "miniforge",
   "language": "python",
   "name": "python3"
  },
  "language_info": {
   "codemirror_mode": {
    "name": "ipython",
    "version": 3
   },
   "file_extension": ".py",
   "mimetype": "text/x-python",
   "name": "python",
   "nbconvert_exporter": "python",
   "pygments_lexer": "ipython3",
   "version": "3.10.15"
  }
 },
 "nbformat": 4,
 "nbformat_minor": 2
}
