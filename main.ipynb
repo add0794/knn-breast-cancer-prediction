{
 "cells": [
  {
   "cell_type": "markdown",
   "metadata": {},
   "source": [
    "# K-Nearest Neighbors (KNN): Theory & Application"
   ]
  },
  {
   "cell_type": "markdown",
   "metadata": {},
   "source": [
    "## 1) The Theory: Finding the Nearest Neighbors"
   ]
  },
  {
   "cell_type": "markdown",
   "metadata": {},
   "source": [
    "The K-nearest neighbors algorithm uses the following steps to classify a given prediction:\n",
    "\n",
    "1. **Compute the Distance**:\n",
    "   Decide on a distance metric (e.g., Euclidean distance) beforehand. For each data point *i* in the training set, calculate the distance between the test point and every feature vector *j*:\n",
    "   $$d(x_{\\text{test}}, x_i) = \\sqrt{\\sum_{j=1}^n (x_{\\text{test}, j} - x_{i, j})^2} = \\| x_{\\text{test}} - x_i \\|_2$$\n",
    "   where:\n",
    "   - *$x_{\\text{test}}$* is the test point.\n",
    "   - *$x_{\\text{i}}$* is a training point.\n",
    "   - *j* is a feature.\n",
    "   - *n* is the number of features.\n",
    "\n",
    "2. **Repeat for All Points**:\n",
    "   Perform the distance calculation for all \\(i\\) points in the training dataset.\n",
    "\n",
    "3. **Calculate Conditional Probabilities**:\n",
    "   For each class label \\(y\\), calculate the conditional probability that the test point belongs to that label given the \\(k\\)-nearest neighbors:\n",
    "   $$P(y = j \\mid \\text{neighbors}) = \\frac{1}{k} \\sum_{i=1}^k \\mathbb{I}(y_i = j)$$\n",
    "   where:\n",
    "   - $\\mathbb{I}(y_i = j)$ is the indicator function, which equals 1 if $y_i = j$ (the neighbor belongs to class *j* and 0 otherwise.\n",
    "   - *k* is the number of neighbors.\n",
    "\n",
    "4. **Choose the Label with Maximum Probability**:\n",
    "   Select the label *j* that maximizes the conditional probability:\n",
    "   $$\\hat{y} = \\arg\\max_{j} P(y = j \\mid \\text{neighbors})$$\n",
    "   The test point is assigned the class label corresponding to the highest conditional probability.\n"
   ]
  },
  {
   "cell_type": "markdown",
   "metadata": {},
   "source": [
    "Let's go through a basic classification example."
   ]
  },
  {
   "cell_type": "code",
   "execution_count": 1,
   "metadata": {},
   "outputs": [],
   "source": [
    "import numpy as np\n",
    "import pandas as pd"
   ]
  },
  {
   "cell_type": "markdown",
   "metadata": {},
   "source": [
    "**We'll gather some data and split between features and labels.**"
   ]
  },
  {
   "cell_type": "code",
   "execution_count": 2,
   "metadata": {},
   "outputs": [
    {
     "name": "stdout",
     "output_type": "stream",
     "text": [
      "   feature1  feature2  label\n",
      "0         1         2      1\n",
      "1         3         4      2\n",
      "2         5         6      1\n"
     ]
    }
   ],
   "source": [
    "features = [[1, 2], [3, 4], [5, 6]]\n",
    "labels = [1, 2, 1]\n",
    "\n",
    "# Convert features list to numpy array and create DataFrame\n",
    "features_array = np.array(features)\n",
    "df = pd.DataFrame(features_array, columns=['feature1', 'feature2'])\n",
    "\n",
    "# Add labels column\n",
    "df['label'] = labels\n",
    "print(df)"
   ]
  },
  {
   "cell_type": "markdown",
   "metadata": {},
   "source": [
    "**Specify our test point for classification.**"
   ]
  },
  {
   "cell_type": "code",
   "execution_count": 3,
   "metadata": {},
   "outputs": [],
   "source": [
    "x_test = np.array([10, 12])"
   ]
  },
  {
   "cell_type": "markdown",
   "metadata": {},
   "source": [
    "**Find the euclidean distance between that point with all other points and each of their features.**"
   ]
  },
  {
   "cell_type": "code",
   "execution_count": 4,
   "metadata": {},
   "outputs": [
    {
     "name": "stdout",
     "output_type": "stream",
     "text": [
      "   feature1  feature2  label       dist\n",
      "0         1         2      1  13.453624\n",
      "1         3         4      2  10.630146\n",
      "2         5         6      1   7.810250\n"
     ]
    }
   ],
   "source": [
    "features = df.drop('label', axis=1)\n",
    "for i in range(len(df)):\n",
    "    dist = np.linalg.norm(x_test-features.iloc[i])\n",
    "    df.loc[i, 'dist'] = dist \n",
    "    \n",
    "print(df)"
   ]
  },
  {
   "cell_type": "markdown",
   "metadata": {},
   "source": [
    "**We'll specify the \"k\" in k-nearest neighbors to decide *which* neighbors we should use for our algorithm.**"
   ]
  },
  {
   "cell_type": "code",
   "execution_count": 5,
   "metadata": {},
   "outputs": [],
   "source": [
    "k = 1\n",
    "\n",
    "# We are taking the highest 1 data point for classification"
   ]
  },
  {
   "cell_type": "markdown",
   "metadata": {},
   "source": [
    "**Finally, we alculate and choose the label with the maximum (conditional) probability as our classification.**"
   ]
  },
  {
   "cell_type": "code",
   "execution_count": 6,
   "metadata": {},
   "outputs": [
    {
     "name": "stdout",
     "output_type": "stream",
     "text": [
      "Label counts: {1: 1, 2: 0}\n",
      "Classification: 1\n"
     ]
    }
   ],
   "source": [
    "# First sort the dataframe by distance to get nearest neighbor\n",
    "df_sorted = df.sort_values('dist')\n",
    "\n",
    "# For k=1, we only look at the first row (nearest neighbor)\n",
    "nearest_label = df_sorted.iloc[0]['label']\n",
    "\n",
    "# Create indicator function\n",
    "def indicator(nearest_label):\n",
    "    label_1 = 0  # Use integers instead of lists\n",
    "    label_2 = 0\n",
    "    \n",
    "    if nearest_label == 1:\n",
    "        label_1 = 1\n",
    "    elif nearest_label == 2:\n",
    "        label_2 = 1\n",
    "        \n",
    "    return {1: label_1, 2: label_2}  # Return a dictionary mapping labels to counts\n",
    "\n",
    "# Get the counts\n",
    "label_counts = indicator(nearest_label)\n",
    "\n",
    "# Find the label with maximum count\n",
    "classification = max(label_counts, key=label_counts.get)\n",
    "\n",
    "print(f\"Label counts: {label_counts}\")\n",
    "print(f\"Classification: {classification}\")"
   ]
  },
  {
   "cell_type": "markdown",
   "metadata": {},
   "source": [
    "Our point should be classified with the label \"1\" according to KNN."
   ]
  },
  {
   "cell_type": "markdown",
   "metadata": {},
   "source": [
    "## 2) The Application: Diagnosing Breast Cancer"
   ]
  },
  {
   "cell_type": "code",
   "execution_count": 53,
   "metadata": {},
   "outputs": [
    {
     "name": "stdout",
     "output_type": "stream",
     "text": [
      "Path to dataset files: /Users/alexdubro/.cache/kagglehub/datasets/rahmasleam/breast-cancer/versions/1\n"
     ]
    }
   ],
   "source": [
    "import kagglehub\n",
    "\n",
    "# Download latest version\n",
    "path = kagglehub.dataset_download(\"rahmasleam/breast-cancer\")\n",
    "\n",
    "print(\"Path to dataset files:\", path)"
   ]
  },
  {
   "cell_type": "markdown",
   "metadata": {},
   "source": [
    "Let's import the necessary packages.\n",
    "\n",
    "Scikit-Learn will do all the heavy lifting that was laid out in the theory. We need to decide on which $k$, however, fits this problem."
   ]
  },
  {
   "cell_type": "code",
   "execution_count": 54,
   "metadata": {},
   "outputs": [],
   "source": [
    "import matplotlib.pyplot as plt\n",
    "import numpy as np\n",
    "import os\n",
    "import pandas as pd\n",
    "from sklearn.metrics import (\n",
    "    accuracy_score, \n",
    "    precision_score, \n",
    "    recall_score, \n",
    "    f1_score, \n",
    "    confusion_matrix, \n",
    "    classification_report\n",
    ")\n",
    "from sklearn.model_selection import cross_val_score, train_test_split\n",
    "from sklearn.neighbors import KNeighborsClassifier\n",
    "from sklearn.preprocessing import StandardScaler"
   ]
  },
  {
   "cell_type": "code",
   "execution_count": 55,
   "metadata": {},
   "outputs": [
    {
     "data": {
      "text/html": [
       "<div>\n",
       "<style scoped>\n",
       "    .dataframe tbody tr th:only-of-type {\n",
       "        vertical-align: middle;\n",
       "    }\n",
       "\n",
       "    .dataframe tbody tr th {\n",
       "        vertical-align: top;\n",
       "    }\n",
       "\n",
       "    .dataframe thead th {\n",
       "        text-align: right;\n",
       "    }\n",
       "</style>\n",
       "<table border=\"1\" class=\"dataframe\">\n",
       "  <thead>\n",
       "    <tr style=\"text-align: right;\">\n",
       "      <th></th>\n",
       "      <th>id</th>\n",
       "      <th>diagnosis</th>\n",
       "      <th>radius_mean</th>\n",
       "      <th>texture_mean</th>\n",
       "      <th>perimeter_mean</th>\n",
       "      <th>area_mean</th>\n",
       "      <th>smoothness_mean</th>\n",
       "      <th>compactness_mean</th>\n",
       "      <th>concavity_mean</th>\n",
       "      <th>concave points_mean</th>\n",
       "      <th>...</th>\n",
       "      <th>radius_worst</th>\n",
       "      <th>texture_worst</th>\n",
       "      <th>perimeter_worst</th>\n",
       "      <th>area_worst</th>\n",
       "      <th>smoothness_worst</th>\n",
       "      <th>compactness_worst</th>\n",
       "      <th>concavity_worst</th>\n",
       "      <th>concave points_worst</th>\n",
       "      <th>symmetry_worst</th>\n",
       "      <th>fractal_dimension_worst</th>\n",
       "    </tr>\n",
       "  </thead>\n",
       "  <tbody>\n",
       "    <tr>\n",
       "      <th>0</th>\n",
       "      <td>842302</td>\n",
       "      <td>M</td>\n",
       "      <td>17.99</td>\n",
       "      <td>10.38</td>\n",
       "      <td>122.80</td>\n",
       "      <td>1001.0</td>\n",
       "      <td>0.11840</td>\n",
       "      <td>0.27760</td>\n",
       "      <td>0.3001</td>\n",
       "      <td>0.14710</td>\n",
       "      <td>...</td>\n",
       "      <td>25.38</td>\n",
       "      <td>17.33</td>\n",
       "      <td>184.60</td>\n",
       "      <td>2019.0</td>\n",
       "      <td>0.1622</td>\n",
       "      <td>0.6656</td>\n",
       "      <td>0.7119</td>\n",
       "      <td>0.2654</td>\n",
       "      <td>0.4601</td>\n",
       "      <td>0.11890</td>\n",
       "    </tr>\n",
       "    <tr>\n",
       "      <th>1</th>\n",
       "      <td>842517</td>\n",
       "      <td>M</td>\n",
       "      <td>20.57</td>\n",
       "      <td>17.77</td>\n",
       "      <td>132.90</td>\n",
       "      <td>1326.0</td>\n",
       "      <td>0.08474</td>\n",
       "      <td>0.07864</td>\n",
       "      <td>0.0869</td>\n",
       "      <td>0.07017</td>\n",
       "      <td>...</td>\n",
       "      <td>24.99</td>\n",
       "      <td>23.41</td>\n",
       "      <td>158.80</td>\n",
       "      <td>1956.0</td>\n",
       "      <td>0.1238</td>\n",
       "      <td>0.1866</td>\n",
       "      <td>0.2416</td>\n",
       "      <td>0.1860</td>\n",
       "      <td>0.2750</td>\n",
       "      <td>0.08902</td>\n",
       "    </tr>\n",
       "    <tr>\n",
       "      <th>2</th>\n",
       "      <td>84300903</td>\n",
       "      <td>M</td>\n",
       "      <td>19.69</td>\n",
       "      <td>21.25</td>\n",
       "      <td>130.00</td>\n",
       "      <td>1203.0</td>\n",
       "      <td>0.10960</td>\n",
       "      <td>0.15990</td>\n",
       "      <td>0.1974</td>\n",
       "      <td>0.12790</td>\n",
       "      <td>...</td>\n",
       "      <td>23.57</td>\n",
       "      <td>25.53</td>\n",
       "      <td>152.50</td>\n",
       "      <td>1709.0</td>\n",
       "      <td>0.1444</td>\n",
       "      <td>0.4245</td>\n",
       "      <td>0.4504</td>\n",
       "      <td>0.2430</td>\n",
       "      <td>0.3613</td>\n",
       "      <td>0.08758</td>\n",
       "    </tr>\n",
       "    <tr>\n",
       "      <th>3</th>\n",
       "      <td>84348301</td>\n",
       "      <td>M</td>\n",
       "      <td>11.42</td>\n",
       "      <td>20.38</td>\n",
       "      <td>77.58</td>\n",
       "      <td>386.1</td>\n",
       "      <td>0.14250</td>\n",
       "      <td>0.28390</td>\n",
       "      <td>0.2414</td>\n",
       "      <td>0.10520</td>\n",
       "      <td>...</td>\n",
       "      <td>14.91</td>\n",
       "      <td>26.50</td>\n",
       "      <td>98.87</td>\n",
       "      <td>567.7</td>\n",
       "      <td>0.2098</td>\n",
       "      <td>0.8663</td>\n",
       "      <td>0.6869</td>\n",
       "      <td>0.2575</td>\n",
       "      <td>0.6638</td>\n",
       "      <td>0.17300</td>\n",
       "    </tr>\n",
       "    <tr>\n",
       "      <th>4</th>\n",
       "      <td>84358402</td>\n",
       "      <td>M</td>\n",
       "      <td>20.29</td>\n",
       "      <td>14.34</td>\n",
       "      <td>135.10</td>\n",
       "      <td>1297.0</td>\n",
       "      <td>0.10030</td>\n",
       "      <td>0.13280</td>\n",
       "      <td>0.1980</td>\n",
       "      <td>0.10430</td>\n",
       "      <td>...</td>\n",
       "      <td>22.54</td>\n",
       "      <td>16.67</td>\n",
       "      <td>152.20</td>\n",
       "      <td>1575.0</td>\n",
       "      <td>0.1374</td>\n",
       "      <td>0.2050</td>\n",
       "      <td>0.4000</td>\n",
       "      <td>0.1625</td>\n",
       "      <td>0.2364</td>\n",
       "      <td>0.07678</td>\n",
       "    </tr>\n",
       "  </tbody>\n",
       "</table>\n",
       "<p>5 rows × 32 columns</p>\n",
       "</div>"
      ],
      "text/plain": [
       "         id diagnosis  radius_mean  texture_mean  perimeter_mean  area_mean  \\\n",
       "0    842302         M        17.99         10.38          122.80     1001.0   \n",
       "1    842517         M        20.57         17.77          132.90     1326.0   \n",
       "2  84300903         M        19.69         21.25          130.00     1203.0   \n",
       "3  84348301         M        11.42         20.38           77.58      386.1   \n",
       "4  84358402         M        20.29         14.34          135.10     1297.0   \n",
       "\n",
       "   smoothness_mean  compactness_mean  concavity_mean  concave points_mean  \\\n",
       "0          0.11840           0.27760          0.3001              0.14710   \n",
       "1          0.08474           0.07864          0.0869              0.07017   \n",
       "2          0.10960           0.15990          0.1974              0.12790   \n",
       "3          0.14250           0.28390          0.2414              0.10520   \n",
       "4          0.10030           0.13280          0.1980              0.10430   \n",
       "\n",
       "   ...  radius_worst  texture_worst  perimeter_worst  area_worst  \\\n",
       "0  ...         25.38          17.33           184.60      2019.0   \n",
       "1  ...         24.99          23.41           158.80      1956.0   \n",
       "2  ...         23.57          25.53           152.50      1709.0   \n",
       "3  ...         14.91          26.50            98.87       567.7   \n",
       "4  ...         22.54          16.67           152.20      1575.0   \n",
       "\n",
       "   smoothness_worst  compactness_worst  concavity_worst  concave points_worst  \\\n",
       "0            0.1622             0.6656           0.7119                0.2654   \n",
       "1            0.1238             0.1866           0.2416                0.1860   \n",
       "2            0.1444             0.4245           0.4504                0.2430   \n",
       "3            0.2098             0.8663           0.6869                0.2575   \n",
       "4            0.1374             0.2050           0.4000                0.1625   \n",
       "\n",
       "   symmetry_worst  fractal_dimension_worst  \n",
       "0          0.4601                  0.11890  \n",
       "1          0.2750                  0.08902  \n",
       "2          0.3613                  0.08758  \n",
       "3          0.6638                  0.17300  \n",
       "4          0.2364                  0.07678  \n",
       "\n",
       "[5 rows x 32 columns]"
      ]
     },
     "execution_count": 55,
     "metadata": {},
     "output_type": "execute_result"
    }
   ],
   "source": [
    "dataset_path = os.path.join(path, 'breast-cancer.csv')\n",
    "\n",
    "raw_data = pd.read_csv(dataset_path)\n",
    "raw_data.head()"
   ]
  },
  {
   "cell_type": "markdown",
   "metadata": {},
   "source": [
    "We know that M is \"Malignant\" and B is \"Benign.\" Let's turn those into our label by assigning:\n",
    "- M = 1\n",
    "- B = 0"
   ]
  },
  {
   "cell_type": "code",
   "execution_count": 56,
   "metadata": {},
   "outputs": [],
   "source": [
    "raw_data['diagnosis'] = raw_data['diagnosis'].map({'M': 1, 'B': 0})"
   ]
  },
  {
   "cell_type": "markdown",
   "metadata": {},
   "source": [
    "Let's split the dataset up into training and test. The training set can be used to predict each test point, as we saw in the theory. Since KNN is an instance-based algorithm, the test points will be evaluated on a case-by-case basis."
   ]
  },
  {
   "cell_type": "code",
   "execution_count": 57,
   "metadata": {},
   "outputs": [],
   "source": [
    "features = raw_data.drop(['diagnosis'], axis=1)\n",
    "label = raw_data['diagnosis']"
   ]
  },
  {
   "cell_type": "code",
   "execution_count": 58,
   "metadata": {},
   "outputs": [],
   "source": [
    "X_train, X_test, y_train, y_test = train_test_split(features, label, test_size=0.2, random_state=10)"
   ]
  },
  {
   "cell_type": "markdown",
   "metadata": {},
   "source": [
    "Because of the sheer difference in size between each column's values (i.e. one column's values might be in thousands; another in decimals), let's standardize the values."
   ]
  },
  {
   "cell_type": "code",
   "execution_count": 59,
   "metadata": {},
   "outputs": [],
   "source": [
    "scaler = StandardScaler()\n",
    "\n",
    "scaler.fit(X_train)\n",
    "X_train = scaler.transform(X_train)\n",
    "X_test = scaler.transform(X_test)"
   ]
  },
  {
   "cell_type": "markdown",
   "metadata": {},
   "source": [
    "Now, let's run KNN, and we'll have $k$ be variable."
   ]
  },
  {
   "cell_type": "code",
   "execution_count": 74,
   "metadata": {},
   "outputs": [
    {
     "data": {
      "image/png": "[encoded data removed]",
      "text/plain": [
       "<Figure size 640x480 with 1 Axes>"
      ]
     },
     "metadata": {},
     "output_type": "display_data"
    },
    {
     "name": "stdout",
     "output_type": "stream",
     "text": [
      "Optimal k: 3\n"
     ]
    }
   ],
   "source": [
    "# Range of k values to test\n",
    "k_values = range(1, 50)\n",
    "cv_scores = []\n",
    "\n",
    "# Evaluate cross-validation accuracy for each k\n",
    "for k in k_values:\n",
    "    knn = KNeighborsClassifier(n_neighbors=k)\n",
    "    scores = cross_val_score(knn, X_train, y_train, cv=10, scoring='accuracy')\n",
    "    cv_scores.append(scores.mean())\n",
    "\n",
    "# Plot results\n",
    "plt.plot(k_values, cv_scores, marker='o')\n",
    "plt.xlabel('Number of Neighbors (k)')\n",
    "plt.ylabel('Cross-Validation Accuracy')\n",
    "plt.title('Choosing k based on Cross-Validation')\n",
    "plt.show()\n",
    "\n",
    "# Best k\n",
    "best_k = k_values[cv_scores.index(max(cv_scores))]\n",
    "print(f\"Optimal k: {best_k}\")"
   ]
  },
  {
   "cell_type": "markdown",
   "metadata": {},
   "source": [
    "Cross validation indicates that the optimal k is 3.\n",
    "\n",
    "Let's try accuracy and the F1 score."
   ]
  },
  {
   "cell_type": "code",
   "execution_count": 70,
   "metadata": {},
   "outputs": [],
   "source": [
    "def accuracy_knn(X_train, X_test, y_train, y_test, max_k=50):     \n",
    "    train_scores = []     \n",
    "    test_scores = []      \n",
    "        \n",
    "    for k in range(1, max_k + 1):         \n",
    "        # Create and train KNN classifier         \n",
    "        knn = KNeighborsClassifier(n_neighbors=k)         \n",
    "        knn.fit(X_train, y_train)                  \n",
    "        # Calculate scores         \n",
    "        train_score = knn.score(X_train, y_train)         \n",
    "        test_score = knn.score(X_test, y_test)                  \n",
    "        train_scores.append(train_score)         \n",
    "        test_scores.append(test_score)          \n",
    "    \n",
    "    return train_scores, test_scores  \n",
    "\n",
    "# Perform evaluation \n",
    "train_accuracy_scores, test_accuracy_scores = accuracy_knn(X_train, X_test, y_train, y_test)"
   ]
  },
  {
   "cell_type": "code",
   "execution_count": 71,
   "metadata": {},
   "outputs": [
    {
     "name": "stdout",
     "output_type": "stream",
     "text": [
      "Best k: 3\n",
      "Train accuracy score: 0.9780\n",
      "Test accuracy score: 0.9825\n",
      "Difference: 0.0044\n"
     ]
    }
   ],
   "source": [
    "# Find the differences between train and test scores\n",
    "differences = [abs(train - test) for train, test in zip(train_accuracy_scores, test_accuracy_scores)]\n",
    "\n",
    "# Find the k value (adding 1 since k starts at 1) where difference is smallest\n",
    "best_k = differences.index(min(differences)) + 1\n",
    "\n",
    "print(f\"Best k: {best_k}\")\n",
    "print(f\"Train accuracy score: {train_accuracy_scores[best_k-1]:.4f}\")\n",
    "print(f\"Test accuracy score: {test_accuracy_scores[best_k-1]:.4f}\")\n",
    "print(f\"Difference: {differences[best_k-1]:.4f}\")"
   ]
  },
  {
   "cell_type": "code",
   "execution_count": 82,
   "metadata": {},
   "outputs": [
    {
     "name": "stdout",
     "output_type": "stream",
     "text": [
      "Best k value: 5\n",
      "Best F1 score on test set: 0.9912\n",
      "k=3: F1 Score = 0.9825\n",
      "k=10: F1 Score = 0.9737\n"
     ]
    }
   ],
   "source": [
    "def accuracy_knn(X_train, X_test, y_train, y_test, max_k=50):\n",
    "    train_scores = []\n",
    "    test_scores = []\n",
    "    \n",
    "    for k in range(1, max_k + 1):\n",
    "        # Create and train KNN classifier\n",
    "        knn = KNeighborsClassifier(n_neighbors=k)\n",
    "        knn.fit(X_train, y_train)\n",
    "        \n",
    "        # Get predictions for both train and test sets\n",
    "        train_pred = knn.predict(X_train)\n",
    "        test_pred = knn.predict(X_test)\n",
    "        \n",
    "        # Calculate F1 scores\n",
    "        train_score = accuracy_score(y_train, train_pred)\n",
    "        test_score = accuracy_score(y_test, test_pred)\n",
    "        \n",
    "        train_scores.append(train_score)\n",
    "        test_scores.append(test_score)\n",
    "    \n",
    "    return train_scores, test_scores\n",
    "\n",
    "# Example usage:\n",
    "train_f1_scores, test_f1_scores = accuracy_knn(X_train, X_test, y_train, y_test)\n",
    "\n",
    "# To find the best k value based on test F1 score:\n",
    "best_k = test_f1_scores.index(max(test_f1_scores)) + 1\n",
    "print(f\"Best k value: {best_k}\")\n",
    "print(f\"Best F1 score on test set: {max(test_f1_scores):.4f}\")\n",
    "\n",
    "# Optional: To compare specific k values\n",
    "def compare_k_values(k_values, test_f1_scores):\n",
    "    for k in k_values:\n",
    "        print(f\"k={k}: F1 Score = {test_f1_scores[k-1]:.4f}\")\n",
    "\n",
    "# Example: Compare k=3 and k=10\n",
    "compare_k_values([3, 10], test_f1_scores)"
   ]
  },
  {
   "cell_type": "code",
   "execution_count": 83,
   "metadata": {},
   "outputs": [
    {
     "name": "stdout",
     "output_type": "stream",
     "text": [
      "k=1: Train F1=1.0000, Test F1=0.9825, Difference=0.0175\n",
      "k=2: Train F1=0.9648, Test F1=0.9737, Difference=0.0088\n",
      "k=3: Train F1=0.9780, Test F1=0.9825, Difference=0.0044\n",
      "k=4: Train F1=0.9736, Test F1=0.9825, Difference=0.0088\n",
      "k=5: Train F1=0.9780, Test F1=0.9912, Difference=0.0132\n",
      "k=6: Train F1=0.9648, Test F1=0.9825, Difference=0.0176\n",
      "k=7: Train F1=0.9648, Test F1=0.9825, Difference=0.0176\n",
      "k=8: Train F1=0.9604, Test F1=0.9825, Difference=0.0220\n",
      "k=9: Train F1=0.9626, Test F1=0.9912, Difference=0.0286\n",
      "k=10: Train F1=0.9604, Test F1=0.9737, Difference=0.0132\n",
      "k=11: Train F1=0.9626, Test F1=0.9912, Difference=0.0286\n",
      "k=12: Train F1=0.9604, Test F1=0.9825, Difference=0.0220\n",
      "k=13: Train F1=0.9626, Test F1=0.9912, Difference=0.0286\n",
      "k=14: Train F1=0.9538, Test F1=0.9825, Difference=0.0286\n",
      "k=15: Train F1=0.9538, Test F1=0.9825, Difference=0.0286\n",
      "k=16: Train F1=0.9538, Test F1=0.9825, Difference=0.0286\n",
      "k=17: Train F1=0.9538, Test F1=0.9825, Difference=0.0286\n",
      "k=18: Train F1=0.9538, Test F1=0.9825, Difference=0.0286\n",
      "k=19: Train F1=0.9538, Test F1=0.9825, Difference=0.0286\n",
      "k=20: Train F1=0.9516, Test F1=0.9825, Difference=0.0308\n",
      "k=21: Train F1=0.9538, Test F1=0.9825, Difference=0.0286\n",
      "k=22: Train F1=0.9495, Test F1=0.9825, Difference=0.0330\n",
      "k=23: Train F1=0.9495, Test F1=0.9825, Difference=0.0330\n",
      "k=24: Train F1=0.9451, Test F1=0.9825, Difference=0.0374\n",
      "k=25: Train F1=0.9473, Test F1=0.9825, Difference=0.0352\n",
      "k=26: Train F1=0.9473, Test F1=0.9825, Difference=0.0352\n",
      "k=27: Train F1=0.9473, Test F1=0.9825, Difference=0.0352\n",
      "k=28: Train F1=0.9451, Test F1=0.9825, Difference=0.0374\n",
      "k=29: Train F1=0.9473, Test F1=0.9825, Difference=0.0352\n",
      "k=30: Train F1=0.9451, Test F1=0.9825, Difference=0.0374\n",
      "k=31: Train F1=0.9473, Test F1=0.9825, Difference=0.0352\n",
      "k=32: Train F1=0.9451, Test F1=0.9825, Difference=0.0374\n",
      "k=33: Train F1=0.9451, Test F1=0.9825, Difference=0.0374\n",
      "k=34: Train F1=0.9451, Test F1=0.9825, Difference=0.0374\n",
      "k=35: Train F1=0.9473, Test F1=0.9825, Difference=0.0352\n",
      "k=36: Train F1=0.9451, Test F1=0.9825, Difference=0.0374\n",
      "k=37: Train F1=0.9451, Test F1=0.9825, Difference=0.0374\n",
      "k=38: Train F1=0.9451, Test F1=0.9825, Difference=0.0374\n",
      "k=39: Train F1=0.9451, Test F1=0.9825, Difference=0.0374\n",
      "k=40: Train F1=0.9451, Test F1=0.9825, Difference=0.0374\n",
      "k=41: Train F1=0.9473, Test F1=0.9825, Difference=0.0352\n",
      "k=42: Train F1=0.9451, Test F1=0.9825, Difference=0.0374\n",
      "k=43: Train F1=0.9451, Test F1=0.9825, Difference=0.0374\n",
      "k=44: Train F1=0.9451, Test F1=0.9737, Difference=0.0286\n",
      "k=45: Train F1=0.9451, Test F1=0.9737, Difference=0.0286\n",
      "k=46: Train F1=0.9451, Test F1=0.9737, Difference=0.0286\n",
      "k=47: Train F1=0.9451, Test F1=0.9649, Difference=0.0199\n",
      "k=48: Train F1=0.9451, Test F1=0.9649, Difference=0.0199\n",
      "k=49: Train F1=0.9473, Test F1=0.9649, Difference=0.0177\n",
      "k=50: Train F1=0.9451, Test F1=0.9649, Difference=0.0199\n",
      "\n",
      "Best k value (smallest difference): 3\n",
      "Train F1: 0.9780\n",
      "Test F1: 0.9825\n",
      "Difference: 0.0044\n"
     ]
    }
   ],
   "source": [
    "# After you get your scores from the f1_knn function:\n",
    "train_f1_scores, test_f1_scores = accuracy_knn(X_train, X_test, y_train, y_test)\n",
    "\n",
    "# To find best k and show both scores\n",
    "for k in range(len(test_f1_scores)):\n",
    "    print(f\"k={k+1}: Train F1={train_f1_scores[k]:.4f}, Test F1={test_f1_scores[k]:.4f}, \"\n",
    "          f\"Difference={abs(train_f1_scores[k] - test_f1_scores[k]):.4f}\")\n",
    "\n",
    "# Find k with smallest difference and high scores\n",
    "differences = [abs(train - test) for train, test in zip(train_f1_scores, test_f1_scores)]\n",
    "best_k = differences.index(min(differences)) + 1\n",
    "\n",
    "print(f\"\\nBest k value (smallest difference): {best_k}\")\n",
    "print(f\"Train F1: {train_f1_scores[best_k-1]:.4f}\")\n",
    "print(f\"Test F1: {test_f1_scores[best_k-1]:.4f}\")\n",
    "print(f\"Difference: {differences[best_k-1]:.4f}\")"
   ]
  },
  {
   "cell_type": "code",
   "execution_count": 79,
   "metadata": {},
   "outputs": [
    {
     "name": "stdout",
     "output_type": "stream",
     "text": [
      "Best k value: 5\n",
      "Best F1 score on test set: 0.9902\n",
      "k=3: F1 Score = 0.9803\n",
      "k=10: F1 Score = 0.9702\n"
     ]
    }
   ],
   "source": [
    "from sklearn.neighbors import KNeighborsClassifier\n",
    "from sklearn.metrics import f1_score\n",
    "\n",
    "def f1_knn(X_train, X_test, y_train, y_test, max_k=50):\n",
    "    train_scores = []\n",
    "    test_scores = []\n",
    "    \n",
    "    for k in range(1, max_k + 1):\n",
    "        # Create and train KNN classifier\n",
    "        knn = KNeighborsClassifier(n_neighbors=k)\n",
    "        knn.fit(X_train, y_train)\n",
    "        \n",
    "        # Get predictions for both train and test sets\n",
    "        train_pred = knn.predict(X_train)\n",
    "        test_pred = knn.predict(X_test)\n",
    "        \n",
    "        # Calculate F1 scores\n",
    "        train_score = f1_score(y_train, train_pred, average='macro')\n",
    "        test_score = f1_score(y_test, test_pred, average='macro')\n",
    "        \n",
    "        train_scores.append(train_score)\n",
    "        test_scores.append(test_score)\n",
    "    \n",
    "    return train_scores, test_scores\n",
    "\n",
    "# Example usage:\n",
    "train_f1_scores, test_f1_scores = f1_knn(X_train, X_test, y_train, y_test)\n",
    "\n",
    "# To find the best k value based on test F1 score:\n",
    "best_k = test_f1_scores.index(max(test_f1_scores)) + 1\n",
    "print(f\"Best k value: {best_k}\")\n",
    "print(f\"Best F1 score on test set: {max(test_f1_scores):.4f}\")\n",
    "\n",
    "# Optional: To compare specific k values\n",
    "def compare_k_values(k_values, test_f1_scores):\n",
    "    for k in k_values:\n",
    "        print(f\"k={k}: F1 Score = {test_f1_scores[k-1]:.4f}\")\n",
    "\n",
    "# Example: Compare k=3 and k=10\n",
    "compare_k_values([3, 10], test_f1_scores)"
   ]
  },
  {
   "cell_type": "code",
   "execution_count": 80,
   "metadata": {},
   "outputs": [
    {
     "name": "stdout",
     "output_type": "stream",
     "text": [
      "k=1: Train F1=1.0000, Test F1=0.9805, Difference=0.0195\n",
      "k=2: Train F1=0.9620, Test F1=0.9702, Difference=0.0082\n",
      "k=3: Train F1=0.9764, Test F1=0.9803, Difference=0.0039\n",
      "k=4: Train F1=0.9716, Test F1=0.9803, Difference=0.0086\n",
      "k=5: Train F1=0.9765, Test F1=0.9902, Difference=0.0137\n",
      "k=6: Train F1=0.9621, Test F1=0.9803, Difference=0.0182\n",
      "k=7: Train F1=0.9622, Test F1=0.9803, Difference=0.0181\n",
      "k=8: Train F1=0.9572, Test F1=0.9803, Difference=0.0231\n",
      "k=9: Train F1=0.9596, Test F1=0.9902, Difference=0.0306\n",
      "k=10: Train F1=0.9572, Test F1=0.9702, Difference=0.0130\n",
      "k=11: Train F1=0.9597, Test F1=0.9902, Difference=0.0305\n",
      "k=12: Train F1=0.9573, Test F1=0.9803, Difference=0.0229\n",
      "k=13: Train F1=0.9597, Test F1=0.9902, Difference=0.0305\n",
      "k=14: Train F1=0.9500, Test F1=0.9803, Difference=0.0303\n",
      "k=15: Train F1=0.9500, Test F1=0.9803, Difference=0.0303\n",
      "k=16: Train F1=0.9499, Test F1=0.9803, Difference=0.0304\n",
      "k=17: Train F1=0.9499, Test F1=0.9803, Difference=0.0304\n",
      "k=18: Train F1=0.9499, Test F1=0.9803, Difference=0.0304\n",
      "k=19: Train F1=0.9499, Test F1=0.9803, Difference=0.0304\n",
      "k=20: Train F1=0.9474, Test F1=0.9803, Difference=0.0328\n",
      "k=21: Train F1=0.9499, Test F1=0.9803, Difference=0.0304\n",
      "k=22: Train F1=0.9450, Test F1=0.9803, Difference=0.0353\n",
      "k=23: Train F1=0.9450, Test F1=0.9803, Difference=0.0353\n",
      "k=24: Train F1=0.9400, Test F1=0.9803, Difference=0.0403\n",
      "k=25: Train F1=0.9425, Test F1=0.9803, Difference=0.0378\n",
      "k=26: Train F1=0.9425, Test F1=0.9803, Difference=0.0378\n",
      "k=27: Train F1=0.9425, Test F1=0.9803, Difference=0.0378\n",
      "k=28: Train F1=0.9400, Test F1=0.9803, Difference=0.0403\n",
      "k=29: Train F1=0.9425, Test F1=0.9803, Difference=0.0378\n",
      "k=30: Train F1=0.9400, Test F1=0.9803, Difference=0.0403\n",
      "k=31: Train F1=0.9425, Test F1=0.9803, Difference=0.0378\n",
      "k=32: Train F1=0.9400, Test F1=0.9803, Difference=0.0403\n",
      "k=33: Train F1=0.9400, Test F1=0.9803, Difference=0.0403\n",
      "k=34: Train F1=0.9400, Test F1=0.9803, Difference=0.0403\n",
      "k=35: Train F1=0.9425, Test F1=0.9803, Difference=0.0378\n",
      "k=36: Train F1=0.9400, Test F1=0.9803, Difference=0.0403\n",
      "k=37: Train F1=0.9400, Test F1=0.9803, Difference=0.0403\n",
      "k=38: Train F1=0.9400, Test F1=0.9803, Difference=0.0403\n",
      "k=39: Train F1=0.9400, Test F1=0.9803, Difference=0.0403\n",
      "k=40: Train F1=0.9400, Test F1=0.9803, Difference=0.0403\n",
      "k=41: Train F1=0.9425, Test F1=0.9803, Difference=0.0378\n",
      "k=42: Train F1=0.9398, Test F1=0.9803, Difference=0.0404\n",
      "k=43: Train F1=0.9398, Test F1=0.9803, Difference=0.0404\n",
      "k=44: Train F1=0.9398, Test F1=0.9702, Difference=0.0304\n",
      "k=45: Train F1=0.9398, Test F1=0.9702, Difference=0.0304\n",
      "k=46: Train F1=0.9398, Test F1=0.9702, Difference=0.0304\n",
      "k=47: Train F1=0.9398, Test F1=0.9605, Difference=0.0207\n",
      "k=48: Train F1=0.9398, Test F1=0.9605, Difference=0.0207\n",
      "k=49: Train F1=0.9423, Test F1=0.9605, Difference=0.0182\n",
      "k=50: Train F1=0.9398, Test F1=0.9605, Difference=0.0207\n",
      "\n",
      "Best k value (smallest difference): 3\n",
      "Train F1: 0.9764\n",
      "Test F1: 0.9803\n",
      "Difference: 0.0039\n"
     ]
    }
   ],
   "source": [
    "# After you get your scores from the f1_knn function:\n",
    "train_f1_scores, test_f1_scores = f1_knn(X_train, X_test, y_train, y_test)\n",
    "\n",
    "# To find best k and show both scores\n",
    "for k in range(len(test_f1_scores)):\n",
    "    print(f\"k={k+1}: Train F1={train_f1_scores[k]:.4f}, Test F1={test_f1_scores[k]:.4f}, \"\n",
    "          f\"Difference={abs(train_f1_scores[k] - test_f1_scores[k]):.4f}\")\n",
    "\n",
    "# Find k with smallest difference and high scores\n",
    "differences = [abs(train - test) for train, test in zip(train_f1_scores, test_f1_scores)]\n",
    "best_k = differences.index(min(differences)) + 1\n",
    "\n",
    "print(f\"\\nBest k value (smallest difference): {best_k}\")\n",
    "print(f\"Train F1: {train_f1_scores[best_k-1]:.4f}\")\n",
    "print(f\"Test F1: {test_f1_scores[best_k-1]:.4f}\")\n",
    "print(f\"Difference: {differences[best_k-1]:.4f}\")"
   ]
  },
  {
   "cell_type": "code",
   "execution_count": 78,
   "metadata": {},
   "outputs": [
    {
     "name": "stdout",
     "output_type": "stream",
     "text": [
      "Best k: 3\n",
      "Train f1 score: 0.9780\n",
      "Test f1 score: 0.9825\n",
      "Difference: 0.0044\n"
     ]
    }
   ],
   "source": [
    "# Find the differences between train and test scores\n",
    "differences_f1_scores = [abs(train - test) for train, test in zip(train_f1_scores, test_f1_scores)]\n",
    "\n",
    "# Find the k value (adding 1 since k starts at 1) where difference is smallest\n",
    "best_k = differences_f1_scores.index(min(differences_f1_scores)) + 1\n",
    "\n",
    "print(f\"Best k: {best_k}\")\n",
    "print(f\"Train f1 score: {train_f1_scores[best_k-1]:.4f}\")\n",
    "print(f\"Test f1 score: {test_f1_scores[best_k-1]:.4f}\")\n",
    "print(f\"Difference: {differences[best_k-1]:.4f}\")"
   ]
  },
  {
   "cell_type": "code",
   "execution_count": null,
   "metadata": {},
   "outputs": [
    {
     "name": "stdout",
     "output_type": "stream",
     "text": [
      "46 46\n"
     ]
    },
    {
     "data": {
      "image/png": "[encoded data removed]",
      "text/plain": [
       "<Figure size 640x480 with 1 Axes>"
      ]
     },
     "metadata": {},
     "output_type": "display_data"
    }
   ],
   "source": [
    "# Evaluate multiple metrics for each k\n",
    "k_values = range(1, 50)\n",
    "accuracy_scores, f1_scores = [], []\n",
    "\n",
    "for k in k_values:\n",
    "    knn = KNeighborsClassifier(n_neighbors=k)\n",
    "    knn.fit(X_train, y_train)\n",
    "    y_pred = knn.predict(X_test)\n",
    "    accuracy_scores.append(accuracy_score(y_test, y_pred))\n",
    "    f1_scores.append(f1_score(y_test, y_pred, average='macro'))\n",
    "\n",
    "# Plot accuracy and F1-score\n",
    "plt.plot(k_values, accuracy_scores, label='Accuracy', marker='o')\n",
    "plt.plot(k_values, f1_scores, label='F1 Score', marker='x')\n",
    "plt.xlabel('Number of Neighbors (k)')\n",
    "plt.ylabel('Metric Score')\n",
    "plt.title('Metrics vs. k')\n",
    "plt.legend()\n",
    "plt.show()"
   ]
  },
  {
   "cell_type": "code",
   "execution_count": 84,
   "metadata": {},
   "outputs": [
    {
     "data": {
      "image/png": "[encoded data removed]",
      "text/plain": [
       "<Figure size 1200x500 with 2 Axes>"
      ]
     },
     "metadata": {},
     "output_type": "display_data"
    }
   ],
   "source": [
    "# Evaluate multiple metrics for each k\n",
    "k_values = range(1, 50)\n",
    "train_accuracy, test_accuracy = [], []\n",
    "train_f1, test_f1 = [], []\n",
    "\n",
    "for k in k_values:\n",
    "    # Create and fit model\n",
    "    knn = KNeighborsClassifier(n_neighbors=k)\n",
    "    knn.fit(X_train, y_train)\n",
    "    \n",
    "    # Get predictions for both sets\n",
    "    train_pred = knn.predict(X_train)\n",
    "    test_pred = knn.predict(X_test)\n",
    "    \n",
    "    # Calculate accuracy scores\n",
    "    train_accuracy.append(accuracy_score(y_train, train_pred))\n",
    "    test_accuracy.append(accuracy_score(y_test, test_pred))\n",
    "    \n",
    "    # Calculate F1 scores\n",
    "    train_f1.append(f1_score(y_train, train_pred, average='macro'))\n",
    "    test_f1.append(f1_score(y_test, test_pred, average='macro'))\n",
    "\n",
    "# Create figure with two subplots\n",
    "plt.figure(figsize=(12, 5))\n",
    "\n",
    "# Plot accuracy\n",
    "plt.subplot(1, 2, 1)\n",
    "plt.plot(k_values, train_accuracy, label='Train Accuracy', marker='o', markersize=2)\n",
    "plt.plot(k_values, test_accuracy, label='Test Accuracy', marker='x', markersize=2)\n",
    "plt.xlabel('Number of Neighbors (k)')\n",
    "plt.ylabel('Accuracy Score')\n",
    "plt.title('Accuracy vs. k')\n",
    "plt.legend()\n",
    "\n",
    "# Plot F1 scores\n",
    "plt.subplot(1, 2, 2)\n",
    "plt.plot(k_values, train_f1, label='Train F1', marker='o', markersize=2)\n",
    "plt.plot(k_values, test_f1, label='Test F1', marker='x', markersize=2)\n",
    "plt.xlabel('Number of Neighbors (k)')\n",
    "plt.ylabel('F1 Score')\n",
    "plt.title('F1 Score vs. k')\n",
    "plt.legend()\n",
    "\n",
    "plt.tight_layout()\n",
    "plt.show()"
   ]
  },
  {
   "cell_type": "markdown",
   "metadata": {},
   "source": [
    "We get conflicting results here; accuracy and the F1 score point out that 3 and 10 are just as good as at predicting the algorithm. \n",
    "\n",
    "What matters just as much is how closely those two results are. Let's find out."
   ]
  },
  {
   "cell_type": "markdown",
   "metadata": {},
   "source": [
    "Let's find the differences between the accuracy values."
   ]
  },
  {
   "cell_type": "code",
   "execution_count": 22,
   "metadata": {},
   "outputs": [
    {
     "name": "stdout",
     "output_type": "stream",
     "text": [
      "4\n",
      "4\n",
      "0     0.982456\n",
      "1     0.973684\n",
      "2     0.982456\n",
      "3     0.982456\n",
      "4     0.991228\n",
      "5     0.982456\n",
      "6     0.982456\n",
      "7     0.982456\n",
      "8     0.991228\n",
      "9     0.973684\n",
      "10    0.991228\n",
      "11    0.982456\n",
      "12    0.991228\n",
      "13    0.982456\n",
      "14    0.982456\n",
      "15    0.982456\n",
      "16    0.982456\n",
      "17    0.982456\n",
      "18    0.982456\n",
      "19    0.982456\n",
      "20    0.982456\n",
      "21    0.982456\n",
      "22    0.982456\n",
      "23    0.982456\n",
      "24    0.982456\n",
      "25    0.982456\n",
      "26    0.982456\n",
      "27    0.982456\n",
      "28    0.982456\n",
      "29    0.982456\n",
      "30    0.982456\n",
      "31    0.982456\n",
      "32    0.982456\n",
      "33    0.982456\n",
      "34    0.982456\n",
      "35    0.982456\n",
      "36    0.982456\n",
      "37    0.982456\n",
      "38    0.982456\n",
      "39    0.982456\n",
      "40    0.982456\n",
      "41    0.982456\n",
      "42    0.982456\n",
      "43    0.973684\n",
      "44    0.973684\n",
      "45    0.973684\n",
      "46    0.964912\n",
      "47    0.964912\n",
      "48    0.964912\n",
      "dtype: float64\n"
     ]
    }
   ],
   "source": [
    "print(np.argmax(accuracy_scores))\n",
    "print(np.argmax(f1_scores))\n",
    "\n",
    "print(pd.Series(accuracy_scores))\n",
    "# print(accuracy_scores)\n",
    "# print(f1_scores)"
   ]
  },
  {
   "cell_type": "code",
   "execution_count": 50,
   "metadata": {},
   "outputs": [
    {
     "name": "stdout",
     "output_type": "stream",
     "text": [
      "Best k: 1\n",
      "Train score: 1.0000\n",
      "Test score: 0.9825\n",
      "Difference: 0.0175\n"
     ]
    }
   ],
   "source": [
    "# Find the differences between train and test scores\n",
    "differences_accuracy = [abs(train - test) for train, test in zip(train_scores, test_scores)]\n",
    "\n",
    "# Find the k value (adding 1 since k starts at 1) where difference is smallest\n",
    "best_k = differences.index(min(differences)) + 1\n",
    "\n",
    "print(f\"Best k: {best_k}\")\n",
    "print(f\"Train score: {train_scores[best_k-1]:.4f}\")\n",
    "print(f\"Test score: {test_scores[best_k-1]:.4f}\")\n",
    "print(f\"Difference: {differences[best_k-1]:.4f}\")"
   ]
  },
  {
   "cell_type": "code",
   "execution_count": 51,
   "metadata": {},
   "outputs": [
    {
     "name": "stdout",
     "output_type": "stream",
     "text": [
      "Best k: 1\n",
      "Train score: 1.0000\n",
      "Test score: 0.9825\n",
      "Difference: 0.0175\n"
     ]
    }
   ],
   "source": [
    "differences_f1_scores = [abs(train - test) for train, test in zip(train_scores, test_scores)]\n",
    "\n",
    "# Find the k value (adding 1 since k starts at 1) where difference is smallest\n",
    "best_k = differences.index(min(differences)) + 1\n",
    "\n",
    "print(f\"Best k: {best_k}\")\n",
    "print(f\"Train score: {train_scores[best_k-1]:.4f}\")\n",
    "print(f\"Test score: {test_scores[best_k-1]:.4f}\")\n",
    "print(f\"Difference: {differences[best_k-1]:.4f}\")"
   ]
  },
  {
   "cell_type": "code",
   "execution_count": 52,
   "metadata": {},
   "outputs": [
    {
     "name": "stdout",
     "output_type": "stream",
     "text": [
      "Best k: 1\n",
      "Train score: 1.0000\n",
      "Test score: 0.9825\n",
      "Difference: 0.0175\n"
     ]
    }
   ],
   "source": [
    "# Find the differences between train and test scores\n",
    "differences = [abs(train - test) for train, test in zip(train_scores, test_scores)]\n",
    "\n",
    "# Find the k value (adding 1 since k starts at 1) where difference is smallest\n",
    "best_k = differences.index(min(differences)) + 1\n",
    "\n",
    "print(f\"Best k: {best_k}\")\n",
    "print(f\"Train score: {train_scores[best_k-1]:.4f}\")\n",
    "print(f\"Test score: {test_scores[best_k-1]:.4f}\")\n",
    "print(f\"Difference: {differences[best_k-1]:.4f}\")"
   ]
  },
  {
   "cell_type": "markdown",
   "metadata": {},
   "source": [
    "Our best k is 3. This is our accuracy: ratio of correct predictions to total predictions.\n",
    "\n",
    "Let's use k = 3 to fit our model."
   ]
  },
  {
   "cell_type": "code",
   "execution_count": 17,
   "metadata": {},
   "outputs": [
    {
     "name": "stdout",
     "output_type": "stream",
     "text": [
      "[1 0 0 1 0 0 0 0 1 1 0 0 1 0 0 1 0 0 0 0 0 1 0 0 1 1 0 1 0 0 0 0 1 0 0 0 0\n",
      " 0 0 0 0 0 0 1 0 1 1 1 1 0 0 0 1 0 0 1 1 0 0 0 1 0 1 1 0 0 0 0 1 1 0 0 0 0\n",
      " 0 1 0 0 1 1 0 0 1 0 0 0 0 0 0 0 0 0 1 0 0 0 1 0 1 0 1 1 0 0 0 0 1 1 0 0 0\n",
      " 0 1 1]\n"
     ]
    }
   ],
   "source": [
    "knn = KNeighborsClassifier(n_neighbors=3)\n",
    "knn.fit(X_train, y_train)\n",
    "y_pred = knn.predict(X_test)\n",
    "print(y_pred)"
   ]
  },
  {
   "cell_type": "markdown",
   "metadata": {},
   "source": [
    "### Evaluating Metrics for KNN\n",
    "\n",
    "We have already determined the **accuracy**, which helped us decide on #k = 3#. Now, let’s explore what the other metrics reveal:\n",
    "\n",
    "#### Metrics Definitions\n",
    "1. **Precision Score**:  \n",
    "   Measures the proportion of correctly predicted positive observations to the total predicted positives. It indicates how precise the model's positive predictions are.  \n",
    "   Formula:  \n",
    "   $$\\text{Precision} = \\frac{\\text{True Positives (TP)}}{\\text{True Positives (TP)} + \\text{False Positives (FP)}}$$\n",
    "\n",
    "2. **Recall Score**:  \n",
    "   Measures the proportion of correctly predicted positive observations to all actual positives. It evaluates the model's ability to capture all relevant cases.  \n",
    "   Formula:  \n",
    "   $$\\text{Recall} = \\frac{\\text{True Positives (TP)}}{\\text{True Positives (TP)} + \\text{False Negatives (FN)}}$$\n",
    "\n",
    "3. **F1 Score**:  \n",
    "   The harmonic mean of precision and recall. It balances the trade-off between precision and recall, especially when the dataset is imbalanced.  \n",
    "   $$\\text{F1 Score} = 2 \\cdot \\frac{\\text{Precision} \\cdot \\text{Recall}}{\\text{Precision} + \\text{Recall}}$$\n",
    "\n",
    "4. **Confusion Matrix**:  \n",
    "   A matrix summarizing the performance of a classification model. It consists of the following components:  \n",
    "   - **True Positives (TP)**: Correctly predicted positive cases.  \n",
    "   - **True Negatives (TN)**: Correctly predicted negative cases.  \n",
    "   - **False Positives (FP)**: Incorrectly predicted positive cases.  \n",
    "   - **False Negatives (FN)**: Incorrectly predicted negative cases.  \n",
    "\n",
    "#### Confusion Matrix Overview\n",
    "We'll include a **confusion matrix** to visualize the classification results:\n",
    "\n",
    "|                     | Predicted Positive | Predicted Negative |\n",
    "|---------------------|-------------------|-------------------|\n",
    "| **Actual Positive** | True Positives (TP) | False Negatives (FN) |\n",
    "| **Actual Negative** | False Positives (FP) | True Negatives (TN) |\n",
    "\n",
    "#### Classification Report\n",
    "Finally, we’ll consolidate all the metrics—accuracy, precision, recall, and F1 score—into a **classification report**, which provides a comprehensive summary in a readable format.\n"
   ]
  },
  {
   "cell_type": "code",
   "execution_count": null,
   "metadata": {},
   "outputs": [
    {
     "name": "stdout",
     "output_type": "stream",
     "text": [
      "\n",
      "Model Performance Metrics:\n",
      "Accuracy: 0.9825\n",
      "Precision (Macro): 0.9870\n",
      "Recall (Macro): 0.9744\n",
      "F1 Score (Macro): 0.9803\n",
      "\n",
      "Confusion Matrix:\n",
      "Labels: Actual Positive, Actual Negative\n",
      "[[75  0]\n",
      " [ 2 37]]\n",
      "\n",
      "Detailed Classification Report:\n",
      "              precision    recall  f1-score   support\n",
      "\n",
      "           0       0.97      1.00      0.99        75\n",
      "           1       1.00      0.95      0.97        39\n",
      "\n",
      "    accuracy                           0.98       114\n",
      "   macro avg       0.99      0.97      0.98       114\n",
      "weighted avg       0.98      0.98      0.98       114\n",
      "\n"
     ]
    }
   ],
   "source": [
    "# print(\"\\nModel Performance Metrics:\")\n",
    "# print(f\"Accuracy: {accuracy_score(y_test, y_pred):.4f}\")\n",
    "# print(f\"Precision (Macro): {precision_score(y_test, y_pred, average='macro'):.4f}\")\n",
    "# print(f\"Recall (Macro): {recall_score(y_test, y_pred, average='macro'):.4f}\")\n",
    "# print(f\"F1 Score (Macro): {f1_score(y_test, y_pred, average='macro'):.4f}\")\n",
    "\n",
    "# print(\"\\nConfusion Matrix:\")\n",
    "# print(confusion_matrix(y_test, y_pred))\n",
    "\n",
    "# print(\"\\nDetailed Classification Report:\")\n",
    "# print(classification_report(y_test, y_pred))\n",
    "\n",
    "# Calculate performance metrics\n",
    "accuracy = accuracy_score(y_test, y_pred)\n",
    "precision = precision_score(y_test, y_pred, average='macro')\n",
    "recall = recall_score(y_test, y_pred, average='macro')\n",
    "f1 = f1_score(y_test, y_pred, average='macro')\n",
    "\n",
    "# Print results with explanations\n",
    "print(\"\\nModel Performance Metrics:\")\n",
    "print(f\"Accuracy: {accuracy:.4f}\")\n",
    "print(f\"Precision (Macro): {precision:.4f}\")\n",
    "print(f\"Recall (Macro): {recall:.4f}\")\n",
    "print(f\"F1 Score (Macro): {f1:.4f}\")"
   ]
  },
  {
   "cell_type": "code",
   "execution_count": 25,
   "metadata": {},
   "outputs": [
    {
     "name": "stdout",
     "output_type": "stream",
     "text": [
      "Labels: Actual Positive, Actual Negative\n",
      "[[75  0]\n",
      " [ 2 37]]\n"
     ]
    }
   ],
   "source": [
    "conf_matrix = confusion_matrix(y_test, y_pred)\n",
    "print(\"Labels: Actual Positive, Actual Negative\")\n",
    "print(conf_matrix)"
   ]
  },
  {
   "cell_type": "code",
   "execution_count": 20,
   "metadata": {},
   "outputs": [
    {
     "data": {
      "image/png": "[encoded data removed]",
      "text/plain": [
       "<Figure size 640x480 with 2 Axes>"
      ]
     },
     "metadata": {},
     "output_type": "display_data"
    }
   ],
   "source": [
    "import seaborn as sns\n",
    "import matplotlib.pyplot as plt\n",
    "\n",
    "sns.heatmap(conf_matrix, annot=True, fmt='d', cmap='Blues')\n",
    "plt.title(\"Confusion Matrix\")\n",
    "plt.xlabel(\"Predicted\")\n",
    "plt.ylabel(\"Actual\")\n",
    "plt.show()\n"
   ]
  },
  {
   "cell_type": "code",
   "execution_count": 26,
   "metadata": {},
   "outputs": [
    {
     "name": "stdout",
     "output_type": "stream",
     "text": [
      "\n",
      "Detailed Classification Report:\n",
      "              precision    recall  f1-score   support\n",
      "\n",
      "           0       0.97      1.00      0.99        75\n",
      "           1       1.00      0.95      0.97        39\n",
      "\n",
      "    accuracy                           0.98       114\n",
      "   macro avg       0.99      0.97      0.98       114\n",
      "weighted avg       0.98      0.98      0.98       114\n",
      "\n"
     ]
    }
   ],
   "source": [
    "class_report = classification_report(y_test, y_pred)\n",
    "print(\"\\nDetailed Classification Report:\")\n",
    "print(class_report)"
   ]
  },
  {
   "cell_type": "code",
   "execution_count": null,
   "metadata": {},
   "outputs": [],
   "source": []
  }
 ],
 "metadata": {
  "kernelspec": {
   "display_name": "miniforge",
   "language": "python",
   "name": "python3"
  },
  "language_info": {
   "codemirror_mode": {
    "name": "ipython",
    "version": 3
   },
   "file_extension": ".py",
   "mimetype": "text/x-python",
   "name": "python",
   "nbconvert_exporter": "python",
   "pygments_lexer": "ipython3",
   "version": "3.10.15"
  }
 },
 "nbformat": 4,
 "nbformat_minor": 2
}
